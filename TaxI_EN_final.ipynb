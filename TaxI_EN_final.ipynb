{
 "cells": [
  {
   "cell_type": "markdown",
   "metadata": {},
   "source": [
    "#  Prediction of taxi orders"
   ]
  },
  {
   "cell_type": "markdown",
   "metadata": {},
   "source": [
    "## Project work plan "
   ]
  },
  {
   "cell_type": "markdown",
   "metadata": {},
   "source": [
    "### 1. Research Objective and Plan"
   ]
  },
  {
   "cell_type": "markdown",
   "metadata": {},
   "source": [
    "We analyze the historical data on airport taxi orders. To attract more drivers during peak times, there is a task to predict the number of taxi orders for the next hour. The goal of current research be  to build a model that provides such predictions.\n",
    "\n",
    "**Research plan:**\n",
    "1. Load and prepare data \n",
    "2. Analyzing data \n",
    "3. Training different models with various hyperparameters using RandomForest, Linear Regression and LightGBM\n",
    "4. Testing the models on test data set\n",
    "\n",
    "**Data:** \n",
    "We have the dataset `taxi.csv` which contains dates and the number of taxi orders for 2018 from March to August. "
   ]
  },
  {
   "cell_type": "markdown",
   "metadata": {},
   "source": [
    "## Data preparation"
   ]
  },
  {
   "cell_type": "markdown",
   "metadata": {},
   "source": [
    "### Importing libraries\n"
   ]
  },
  {
   "cell_type": "code",
   "execution_count": 7,
   "metadata": {},
   "outputs": [],
   "source": [
    "import pandas as pd\n",
    "import numpy as np\n",
    "import os\n",
    "import seaborn as sns\n",
    "color_pal = sns.color_palette()\n",
    "import matplotlib.pyplot as plt\n",
    "from statsmodels.tsa.seasonal import seasonal_decompose\n",
    "from sklearn.model_selection import (train_test_split,\n",
    "                                    RandomizedSearchCV, \n",
    "                                    TimeSeriesSplit)\n",
    "from sklearn.pipeline import Pipeline\n",
    "from sklearn.compose import ColumnTransformer\n",
    "from sklearn.preprocessing import StandardScaler\n",
    "from sklearn.linear_model import LinearRegression\n",
    "from lightgbm import LGBMRegressor\n",
    "from sklearn.ensemble import RandomForestRegressor\n",
    "from sklearn.metrics import mean_squared_error\n",
    "\n"
   ]
  },
  {
   "cell_type": "markdown",
   "metadata": {},
   "source": [
    "### Raeding files"
   ]
  },
  {
   "cell_type": "markdown",
   "metadata": {},
   "source": [
    "Here we read the csv file seeting the date column as an index and parsing it to datetime format "
   ]
  },
  {
   "cell_type": "code",
   "execution_count": 10,
   "metadata": {},
   "outputs": [],
   "source": [
    "pth1_taxi = 'taxi.csv'\n",
    "pth2_taxi = '/datasets/taxi.csv'\n",
    "\n",
    "if os.path.exists(pth1_taxi):\n",
    "    df_taxi = pd.read_csv(pth1_taxi, index_col=[0], parse_dates=[0])\n",
    "elif os.path.exists(pth2_taxi):\n",
    "    df_taxi = pd.read_csv(pth2_taxi, index_col=[0], parse_dates=[0])\n",
    "else:\n",
    "    print('Something is wrong with taxi.csv')"
   ]
  },
  {
   "cell_type": "code",
   "execution_count": 11,
   "metadata": {},
   "outputs": [
    {
     "data": {
      "text/html": [
       "<div>\n",
       "<style scoped>\n",
       "    .dataframe tbody tr th:only-of-type {\n",
       "        vertical-align: middle;\n",
       "    }\n",
       "\n",
       "    .dataframe tbody tr th {\n",
       "        vertical-align: top;\n",
       "    }\n",
       "\n",
       "    .dataframe thead th {\n",
       "        text-align: right;\n",
       "    }\n",
       "</style>\n",
       "<table border=\"1\" class=\"dataframe\">\n",
       "  <thead>\n",
       "    <tr style=\"text-align: right;\">\n",
       "      <th></th>\n",
       "      <th>num_orders</th>\n",
       "    </tr>\n",
       "    <tr>\n",
       "      <th>datetime</th>\n",
       "      <th></th>\n",
       "    </tr>\n",
       "  </thead>\n",
       "  <tbody>\n",
       "    <tr>\n",
       "      <th>2018-03-01 00:00:00</th>\n",
       "      <td>9</td>\n",
       "    </tr>\n",
       "    <tr>\n",
       "      <th>2018-03-01 00:10:00</th>\n",
       "      <td>14</td>\n",
       "    </tr>\n",
       "  </tbody>\n",
       "</table>\n",
       "</div>"
      ],
      "text/plain": [
       "                     num_orders\n",
       "datetime                       \n",
       "2018-03-01 00:00:00           9\n",
       "2018-03-01 00:10:00          14"
      ]
     },
     "execution_count": 11,
     "metadata": {},
     "output_type": "execute_result"
    }
   ],
   "source": [
    "df_taxi.head(2)"
   ]
  },
  {
   "cell_type": "code",
   "execution_count": 12,
   "metadata": {},
   "outputs": [
    {
     "data": {
      "text/html": [
       "<div>\n",
       "<style scoped>\n",
       "    .dataframe tbody tr th:only-of-type {\n",
       "        vertical-align: middle;\n",
       "    }\n",
       "\n",
       "    .dataframe tbody tr th {\n",
       "        vertical-align: top;\n",
       "    }\n",
       "\n",
       "    .dataframe thead th {\n",
       "        text-align: right;\n",
       "    }\n",
       "</style>\n",
       "<table border=\"1\" class=\"dataframe\">\n",
       "  <thead>\n",
       "    <tr style=\"text-align: right;\">\n",
       "      <th></th>\n",
       "      <th>num_orders</th>\n",
       "    </tr>\n",
       "    <tr>\n",
       "      <th>datetime</th>\n",
       "      <th></th>\n",
       "    </tr>\n",
       "  </thead>\n",
       "  <tbody>\n",
       "    <tr>\n",
       "      <th>2018-08-31 23:40:00</th>\n",
       "      <td>39</td>\n",
       "    </tr>\n",
       "    <tr>\n",
       "      <th>2018-08-31 23:50:00</th>\n",
       "      <td>53</td>\n",
       "    </tr>\n",
       "  </tbody>\n",
       "</table>\n",
       "</div>"
      ],
      "text/plain": [
       "                     num_orders\n",
       "datetime                       \n",
       "2018-08-31 23:40:00          39\n",
       "2018-08-31 23:50:00          53"
      ]
     },
     "execution_count": 12,
     "metadata": {},
     "output_type": "execute_result"
    }
   ],
   "source": [
    "df_taxi.tail(2)"
   ]
  },
  {
   "cell_type": "markdown",
   "metadata": {},
   "source": [
    "We can observe the dataset contains data for 2018 from March to August "
   ]
  },
  {
   "cell_type": "code",
   "execution_count": 14,
   "metadata": {},
   "outputs": [
    {
     "name": "stdout",
     "output_type": "stream",
     "text": [
      "<class 'pandas.core.frame.DataFrame'>\n",
      "DatetimeIndex: 26496 entries, 2018-03-01 00:00:00 to 2018-08-31 23:50:00\n",
      "Data columns (total 1 columns):\n",
      " #   Column      Non-Null Count  Dtype\n",
      "---  ------      --------------  -----\n",
      " 0   num_orders  26496 non-null  int64\n",
      "dtypes: int64(1)\n",
      "memory usage: 414.0 KB\n"
     ]
    }
   ],
   "source": [
    "df_taxi.info()"
   ]
  },
  {
   "cell_type": "markdown",
   "metadata": {},
   "source": [
    "-  the dataset contains 26496 observations and two columns\n",
    "-  no missing values\n",
    "-  column datetime has a object type, has to be converted to datetime format"
   ]
  },
  {
   "cell_type": "markdown",
   "metadata": {},
   "source": [
    "Lets convert datetime to datetime format and set index for datetime column for consistency "
   ]
  },
  {
   "cell_type": "markdown",
   "metadata": {},
   "source": [
    "Now we check if data is sorted chronologically"
   ]
  },
  {
   "cell_type": "code",
   "execution_count": 18,
   "metadata": {},
   "outputs": [
    {
     "name": "stdout",
     "output_type": "stream",
     "text": [
      "True\n"
     ]
    }
   ],
   "source": [
    "df_taxi = df_taxi.sort_index()\n",
    "print(df_taxi.index.is_monotonic_increasing)\n"
   ]
  },
  {
   "cell_type": "markdown",
   "metadata": {},
   "source": [
    "For the model training we do the resampling of the data by 1-h frequency "
   ]
  },
  {
   "cell_type": "code",
   "execution_count": 20,
   "metadata": {},
   "outputs": [],
   "source": [
    "df_taxi = df_taxi.resample('1H').sum()"
   ]
  },
  {
   "cell_type": "markdown",
   "metadata": {},
   "source": [
    "## Exploratory data analysis "
   ]
  },
  {
   "cell_type": "markdown",
   "metadata": {},
   "source": [
    "### Visialization  of time series "
   ]
  },
  {
   "cell_type": "code",
   "execution_count": 23,
   "metadata": {},
   "outputs": [
    {
     "data": {
      "image/png": "[encoded data removed]",
      "text/plain": [
       "<Figure size 1500x500 with 1 Axes>"
      ]
     },
     "metadata": {},
     "output_type": "display_data"
    }
   ],
   "source": [
    "df_taxi.plot(style = '.', figsize = (15,5), color = color_pal[2], title = 'Taxi rides') \n",
    "\n",
    "plt.xlabel('Date and Time')\n",
    "plt.ylabel('Number of Taxi Rides')\n",
    "plt.show()"
   ]
  },
  {
   "cell_type": "markdown",
   "metadata": {},
   "source": [
    "- On the graph we can observe distribution  of the number of rides from March to August of 2018\n"
   ]
  },
  {
   "cell_type": "markdown",
   "metadata": {},
   "source": [
    "### Trend and seasonality analysis "
   ]
  },
  {
   "cell_type": "markdown",
   "metadata": {},
   "source": [
    "Now we check trend and seasonality "
   ]
  },
  {
   "cell_type": "code",
   "execution_count": 27,
   "metadata": {},
   "outputs": [
    {
     "data": {
      "image/png": "[encoded data removed]",
      "text/plain": [
       "<Figure size 1000x600 with 1 Axes>"
      ]
     },
     "metadata": {},
     "output_type": "display_data"
    }
   ],
   "source": [
    "decomposed = seasonal_decompose(df_taxi['num_orders'], model='additive')\n",
    "decomposed.trend.plot(figsize=(10, 6),title='Trend')\n",
    "plt.show()\n"
   ]
  },
  {
   "cell_type": "markdown",
   "metadata": {},
   "source": [
    "**Trend**: The graph shows an accelerating trend where the number of taxi orders increases from March to August. Initially, the trend grows slowly, but it picks up speed, especially between July and August. This indicates that the number of taxi orders sharply increases during the summer, with a particularly noticeable spike in August."
   ]
  },
  {
   "cell_type": "markdown",
   "metadata": {},
   "source": [
    "Let's examine the daily seasonality from August 1st to August 5th."
   ]
  },
  {
   "cell_type": "code",
   "execution_count": 30,
   "metadata": {},
   "outputs": [
    {
     "data": {
      "image/png": "[encoded data removed]",
      "text/plain": [
       "<Figure size 1000x600 with 1 Axes>"
      ]
     },
     "metadata": {},
     "output_type": "display_data"
    }
   ],
   "source": [
    "timeline = df_taxi['2018-08-01':'2018-08-03']\n",
    "resampled_timeline = timeline.resample('1H').sum()\n",
    "decomposed_day = seasonal_decompose(resampled_timeline['num_orders'], model='additive')\n",
    "\n",
    "decomposed_day.seasonal.plot(figsize=(10, 6), title='Seasonality During The Day')\n",
    "plt.show()\n"
   ]
  },
  {
   "cell_type": "markdown",
   "metadata": {},
   "source": [
    "On the daily seasonality graph for several days, we can observe a clear pattern. There are peaks around midnight, midday (closer to 12:00), and in the evening around 17:00-18:00. These peaks likely correspond to times when people are commuting to and from work, as well as during the night, when people are likely returning home."
   ]
  },
  {
   "cell_type": "markdown",
   "metadata": {},
   "source": [
    "Next it makes sense to examine weekly seasonality as well. Lets take few weeks in July "
   ]
  },
  {
   "cell_type": "code",
   "execution_count": 33,
   "metadata": {},
   "outputs": [
    {
     "data": {
      "image/png": "[encoded data removed]",
      "text/plain": [
       "<Figure size 1000x600 with 1 Axes>"
      ]
     },
     "metadata": {},
     "output_type": "display_data"
    }
   ],
   "source": [
    "timeline = df_taxi['2018-07-01':'2018-07-21']\n",
    "resampled_timeline = timeline.resample('1D').sum()\n",
    "decomposed_week = seasonal_decompose(resampled_timeline['num_orders'], model='additive')\n",
    "\n",
    "decomposed_week.seasonal.plot(figsize=(10, 6), title='Seasonality During The Week')\n",
    "plt.show()"
   ]
  },
  {
   "cell_type": "markdown",
   "metadata": {},
   "source": [
    "In the graph over a period of three weeks, a clear seasonality can be observed, where the number of trips sharply increases every Friday and Saturday"
   ]
  },
  {
   "cell_type": "code",
   "execution_count": 35,
   "metadata": {},
   "outputs": [
    {
     "data": {
      "image/png": "[encoded data removed]",
      "text/plain": [
       "<Figure size 1000x600 with 1 Axes>"
      ]
     },
     "metadata": {},
     "output_type": "display_data"
    }
   ],
   "source": [
    "decomposed = seasonal_decompose(df_taxi['num_orders'], model='additive')\n",
    "decomposed.resid.plot(figsize=(10, 6), title='Residuals')\n",
    "plt.show()\n"
   ]
  },
  {
   "cell_type": "markdown",
   "metadata": {},
   "source": [
    "The proportion of noise increases towards the end of the graph, indicating that more difficult-to-predict data will be included in the test set. As a result, the metrics between the training and test sets may differ."
   ]
  },
  {
   "cell_type": "markdown",
   "metadata": {},
   "source": [
    "## Model training "
   ]
  },
  {
   "cell_type": "markdown",
   "metadata": {},
   "source": [
    "### Feature creation"
   ]
  },
  {
   "cell_type": "markdown",
   "metadata": {},
   "source": [
    "Let’s create a function that generates features such as day, hour, and day of the week in order to extract the feature of whether it is a weekend or not"
   ]
  },
  {
   "cell_type": "code",
   "execution_count": 41,
   "metadata": {},
   "outputs": [
    {
     "data": {
      "text/html": [
       "<div>\n",
       "<style scoped>\n",
       "    .dataframe tbody tr th:only-of-type {\n",
       "        vertical-align: middle;\n",
       "    }\n",
       "\n",
       "    .dataframe tbody tr th {\n",
       "        vertical-align: top;\n",
       "    }\n",
       "\n",
       "    .dataframe thead th {\n",
       "        text-align: right;\n",
       "    }\n",
       "</style>\n",
       "<table border=\"1\" class=\"dataframe\">\n",
       "  <thead>\n",
       "    <tr style=\"text-align: right;\">\n",
       "      <th></th>\n",
       "      <th>num_orders</th>\n",
       "      <th>day</th>\n",
       "      <th>dayofweek</th>\n",
       "      <th>hour</th>\n",
       "      <th>is_weekend</th>\n",
       "      <th>lag_1</th>\n",
       "      <th>lag_2</th>\n",
       "      <th>lag_3</th>\n",
       "      <th>lag_4</th>\n",
       "      <th>lag_5</th>\n",
       "      <th>lag_6</th>\n",
       "      <th>lag_7</th>\n",
       "      <th>lag_8</th>\n",
       "      <th>lag_9</th>\n",
       "      <th>lag_10</th>\n",
       "      <th>rolling_mean</th>\n",
       "    </tr>\n",
       "    <tr>\n",
       "      <th>datetime</th>\n",
       "      <th></th>\n",
       "      <th></th>\n",
       "      <th></th>\n",
       "      <th></th>\n",
       "      <th></th>\n",
       "      <th></th>\n",
       "      <th></th>\n",
       "      <th></th>\n",
       "      <th></th>\n",
       "      <th></th>\n",
       "      <th></th>\n",
       "      <th></th>\n",
       "      <th></th>\n",
       "      <th></th>\n",
       "      <th></th>\n",
       "      <th></th>\n",
       "    </tr>\n",
       "  </thead>\n",
       "  <tbody>\n",
       "    <tr>\n",
       "      <th>2018-03-01 10:00:00</th>\n",
       "      <td>64</td>\n",
       "      <td>1</td>\n",
       "      <td>3</td>\n",
       "      <td>10</td>\n",
       "      <td>0</td>\n",
       "      <td>69.0</td>\n",
       "      <td>34.0</td>\n",
       "      <td>15.0</td>\n",
       "      <td>12.0</td>\n",
       "      <td>6.0</td>\n",
       "      <td>43.0</td>\n",
       "      <td>66.0</td>\n",
       "      <td>71.0</td>\n",
       "      <td>85.0</td>\n",
       "      <td>124.0</td>\n",
       "      <td>69.0</td>\n",
       "    </tr>\n",
       "    <tr>\n",
       "      <th>2018-03-01 11:00:00</th>\n",
       "      <td>96</td>\n",
       "      <td>1</td>\n",
       "      <td>3</td>\n",
       "      <td>11</td>\n",
       "      <td>0</td>\n",
       "      <td>64.0</td>\n",
       "      <td>69.0</td>\n",
       "      <td>34.0</td>\n",
       "      <td>15.0</td>\n",
       "      <td>12.0</td>\n",
       "      <td>6.0</td>\n",
       "      <td>43.0</td>\n",
       "      <td>66.0</td>\n",
       "      <td>71.0</td>\n",
       "      <td>85.0</td>\n",
       "      <td>64.0</td>\n",
       "    </tr>\n",
       "  </tbody>\n",
       "</table>\n",
       "</div>"
      ],
      "text/plain": [
       "                     num_orders  day  dayofweek  hour  is_weekend  lag_1  \\\n",
       "datetime                                                                   \n",
       "2018-03-01 10:00:00          64    1          3    10           0   69.0   \n",
       "2018-03-01 11:00:00          96    1          3    11           0   64.0   \n",
       "\n",
       "                     lag_2  lag_3  lag_4  lag_5  lag_6  lag_7  lag_8  lag_9  \\\n",
       "datetime                                                                      \n",
       "2018-03-01 10:00:00   34.0   15.0   12.0    6.0   43.0   66.0   71.0   85.0   \n",
       "2018-03-01 11:00:00   69.0   34.0   15.0   12.0    6.0   43.0   66.0   71.0   \n",
       "\n",
       "                     lag_10  rolling_mean  \n",
       "datetime                                   \n",
       "2018-03-01 10:00:00   124.0          69.0  \n",
       "2018-03-01 11:00:00    85.0          64.0  "
      ]
     },
     "execution_count": 41,
     "metadata": {},
     "output_type": "execute_result"
    }
   ],
   "source": [
    "def make_features(data, max_lag, rolling_mean_size):\n",
    "    df = data.copy()\n",
    "    df['day'] = df.index.day\n",
    "    df['dayofweek'] = df.index.dayofweek\n",
    "    df['hour'] = df.index.hour\n",
    "    df['is_weekend'] = df['dayofweek'].apply(lambda x: 1 if x >= 5 else 0)\n",
    "    \n",
    "    \n",
    "    for lag in range(1, max_lag + 1):\n",
    "        df['lag_{}'.format(lag)] = df['num_orders'].shift(lag)\n",
    "\n",
    "    df['rolling_mean'] = df['num_orders'].shift().rolling(rolling_mean_size).mean()\n",
    "    return df.dropna() \n",
    "\n",
    "df_taxi = make_features(df_taxi, 10, 1)\n",
    "df_taxi.head(2)\n"
   ]
  },
  {
   "cell_type": "markdown",
   "metadata": {},
   "source": [
    "### Prepare data "
   ]
  },
  {
   "cell_type": "code",
   "execution_count": 46,
   "metadata": {},
   "outputs": [
    {
     "name": "stdout",
     "output_type": "stream",
     "text": [
      "Training set size: 3965\n",
      "Test set size: 441\n"
     ]
    }
   ],
   "source": [
    "train_size = int(len(df_taxi) * 0.9)\n",
    "\n",
    "#split the data \n",
    "train = df_taxi[:train_size]  \n",
    "test = df_taxi[train_size:]  \n",
    "\n",
    "\n",
    "print(f'Training set size: {len(train)}')\n",
    "print(f'Test set size: {len(test)}')"
   ]
  },
  {
   "cell_type": "code",
   "execution_count": 47,
   "metadata": {},
   "outputs": [],
   "source": [
    "features = ['day','hour', 'is_weekend', 'lag_1', 'lag_2', 'lag_3', 'lag_4', 'lag_5', 'lag_6', 'lag_7', 'lag_8', 'lag_9', 'lag_10','rolling_mean']\n",
    "target = 'num_orders'"
   ]
  },
  {
   "cell_type": "code",
   "execution_count": 48,
   "metadata": {},
   "outputs": [],
   "source": [
    "X_train = train[features].dropna()\n",
    "y_train = train[target]\n",
    "X_test = test[features]\n",
    "y_test = test[target][X_test.index] "
   ]
  },
  {
   "cell_type": "code",
   "execution_count": 49,
   "metadata": {},
   "outputs": [],
   "source": [
    "numerical_features =  ['day','hour', 'is_weekend', 'lag_1', 'lag_2', 'lag_3', 'lag_4', 'lag_5', 'lag_6', 'lag_7', 'lag_8', 'lag_9', 'lag_10','rolling_mean']"
   ]
  },
  {
   "cell_type": "markdown",
   "metadata": {},
   "source": [
    "For model training we use three techniques: \n",
    "- Random Forest\n",
    "- LightGBM \n",
    "- Linear Regressor"
   ]
  },
  {
   "cell_type": "code",
   "execution_count": 51,
   "metadata": {},
   "outputs": [],
   "source": [
    "tscv = TimeSeriesSplit(n_splits=5)\n",
    "\n",
    "preprocessor = ColumnTransformer(\n",
    "    transformers=[\n",
    "        ('num', StandardScaler(), numerical_features)\n",
    "        ]\n",
    ")\n",
    "\n",
    "pipe = Pipeline([\n",
    "    ('preprocessor', preprocessor), \n",
    "    ('model', LinearRegression())\n",
    "]   \n",
    ")\n",
    "\n",
    "param_grid = [\n",
    "    {\n",
    "        'model': [RandomForestRegressor()],\n",
    "        'model__n_estimators': [50, 80, 100],\n",
    "        'model__max_depth': [5, 10, 15],\n",
    "        'model__min_samples_split': [2, 5],\n",
    "        'model__min_samples_leaf': [1, 2]\n",
    "    },\n",
    "    {\n",
    "        'model': [LGBMRegressor()],\n",
    "        'model__n_estimators': [50, 80, 100],\n",
    "        'model__learning_rate': [0.01, 0.05, 0.1],\n",
    "        'model__max_depth': [5, 10, 15],\n",
    "        'model__num_leaves': [10, 20, 30]\n",
    "    },\n",
    "    {\n",
    "        'model': [LinearRegression()]\n",
    "    }\n",
    "]"
   ]
  },
  {
   "cell_type": "markdown",
   "metadata": {},
   "source": [
    "### Model training "
   ]
  },
  {
   "cell_type": "markdown",
   "metadata": {},
   "source": [
    "In this part we choose best model based on training set and check RMSE metrics"
   ]
  },
  {
   "cell_type": "code",
   "execution_count": 57,
   "metadata": {},
   "outputs": [],
   "source": [
    "scorer = 'neg_root_mean_squared_error'\n",
    "random_search = RandomizedSearchCV(\n",
    "    pipe,  \n",
    "    param_distributions=param_grid,  \n",
    "    n_iter=10,  \n",
    "    cv=tscv,  \n",
    "    scoring=scorer,  \n",
    "    n_jobs=-1,  \n",
    "    random_state=42  \n",
    ")"
   ]
  },
  {
   "cell_type": "code",
   "execution_count": 58,
   "metadata": {},
   "outputs": [
    {
     "name": "stdout",
     "output_type": "stream",
     "text": [
      "[LightGBM] [Info] Auto-choosing col-wise multi-threading, the overhead of testing was 0.000883 seconds.\n",
      "You can set `force_col_wise=true` to remove the overhead.\n",
      "[LightGBM] [Info] Total Bins 2150\n",
      "[LightGBM] [Info] Number of data points in the train set: 3965, number of used features: 14\n",
      "[LightGBM] [Info] Start training from score 78.361665\n"
     ]
    },
    {
     "data": {
      "text/html": [
       "<style>#sk-container-id-1 {\n",
       "  /* Definition of color scheme common for light and dark mode */\n",
       "  --sklearn-color-text: black;\n",
       "  --sklearn-color-line: gray;\n",
       "  /* Definition of color scheme for unfitted estimators */\n",
       "  --sklearn-color-unfitted-level-0: #fff5e6;\n",
       "  --sklearn-color-unfitted-level-1: #f6e4d2;\n",
       "  --sklearn-color-unfitted-level-2: #ffe0b3;\n",
       "  --sklearn-color-unfitted-level-3: chocolate;\n",
       "  /* Definition of color scheme for fitted estimators */\n",
       "  --sklearn-color-fitted-level-0: #f0f8ff;\n",
       "  --sklearn-color-fitted-level-1: #d4ebff;\n",
       "  --sklearn-color-fitted-level-2: #b3dbfd;\n",
       "  --sklearn-color-fitted-level-3: cornflowerblue;\n",
       "\n",
       "  /* Specific color for light theme */\n",
       "  --sklearn-color-text-on-default-background: var(--sg-text-color, var(--theme-code-foreground, var(--jp-content-font-color1, black)));\n",
       "  --sklearn-color-background: var(--sg-background-color, var(--theme-background, var(--jp-layout-color0, white)));\n",
       "  --sklearn-color-border-box: var(--sg-text-color, var(--theme-code-foreground, var(--jp-content-font-color1, black)));\n",
       "  --sklearn-color-icon: #696969;\n",
       "\n",
       "  @media (prefers-color-scheme: dark) {\n",
       "    /* Redefinition of color scheme for dark theme */\n",
       "    --sklearn-color-text-on-default-background: var(--sg-text-color, var(--theme-code-foreground, var(--jp-content-font-color1, white)));\n",
       "    --sklearn-color-background: var(--sg-background-color, var(--theme-background, var(--jp-layout-color0, #111)));\n",
       "    --sklearn-color-border-box: var(--sg-text-color, var(--theme-code-foreground, var(--jp-content-font-color1, white)));\n",
       "    --sklearn-color-icon: #878787;\n",
       "  }\n",
       "}\n",
       "\n",
       "#sk-container-id-1 {\n",
       "  color: var(--sklearn-color-text);\n",
       "}\n",
       "\n",
       "#sk-container-id-1 pre {\n",
       "  padding: 0;\n",
       "}\n",
       "\n",
       "#sk-container-id-1 input.sk-hidden--visually {\n",
       "  border: 0;\n",
       "  clip: rect(1px 1px 1px 1px);\n",
       "  clip: rect(1px, 1px, 1px, 1px);\n",
       "  height: 1px;\n",
       "  margin: -1px;\n",
       "  overflow: hidden;\n",
       "  padding: 0;\n",
       "  position: absolute;\n",
       "  width: 1px;\n",
       "}\n",
       "\n",
       "#sk-container-id-1 div.sk-dashed-wrapped {\n",
       "  border: 1px dashed var(--sklearn-color-line);\n",
       "  margin: 0 0.4em 0.5em 0.4em;\n",
       "  box-sizing: border-box;\n",
       "  padding-bottom: 0.4em;\n",
       "  background-color: var(--sklearn-color-background);\n",
       "}\n",
       "\n",
       "#sk-container-id-1 div.sk-container {\n",
       "  /* jupyter's `normalize.less` sets `[hidden] { display: none; }`\n",
       "     but bootstrap.min.css set `[hidden] { display: none !important; }`\n",
       "     so we also need the `!important` here to be able to override the\n",
       "     default hidden behavior on the sphinx rendered scikit-learn.org.\n",
       "     See: https://github.com/scikit-learn/scikit-learn/issues/21755 */\n",
       "  display: inline-block !important;\n",
       "  position: relative;\n",
       "}\n",
       "\n",
       "#sk-container-id-1 div.sk-text-repr-fallback {\n",
       "  display: none;\n",
       "}\n",
       "\n",
       "div.sk-parallel-item,\n",
       "div.sk-serial,\n",
       "div.sk-item {\n",
       "  /* draw centered vertical line to link estimators */\n",
       "  background-image: linear-gradient(var(--sklearn-color-text-on-default-background), var(--sklearn-color-text-on-default-background));\n",
       "  background-size: 2px 100%;\n",
       "  background-repeat: no-repeat;\n",
       "  background-position: center center;\n",
       "}\n",
       "\n",
       "/* Parallel-specific style estimator block */\n",
       "\n",
       "#sk-container-id-1 div.sk-parallel-item::after {\n",
       "  content: \"\";\n",
       "  width: 100%;\n",
       "  border-bottom: 2px solid var(--sklearn-color-text-on-default-background);\n",
       "  flex-grow: 1;\n",
       "}\n",
       "\n",
       "#sk-container-id-1 div.sk-parallel {\n",
       "  display: flex;\n",
       "  align-items: stretch;\n",
       "  justify-content: center;\n",
       "  background-color: var(--sklearn-color-background);\n",
       "  position: relative;\n",
       "}\n",
       "\n",
       "#sk-container-id-1 div.sk-parallel-item {\n",
       "  display: flex;\n",
       "  flex-direction: column;\n",
       "}\n",
       "\n",
       "#sk-container-id-1 div.sk-parallel-item:first-child::after {\n",
       "  align-self: flex-end;\n",
       "  width: 50%;\n",
       "}\n",
       "\n",
       "#sk-container-id-1 div.sk-parallel-item:last-child::after {\n",
       "  align-self: flex-start;\n",
       "  width: 50%;\n",
       "}\n",
       "\n",
       "#sk-container-id-1 div.sk-parallel-item:only-child::after {\n",
       "  width: 0;\n",
       "}\n",
       "\n",
       "/* Serial-specific style estimator block */\n",
       "\n",
       "#sk-container-id-1 div.sk-serial {\n",
       "  display: flex;\n",
       "  flex-direction: column;\n",
       "  align-items: center;\n",
       "  background-color: var(--sklearn-color-background);\n",
       "  padding-right: 1em;\n",
       "  padding-left: 1em;\n",
       "}\n",
       "\n",
       "\n",
       "/* Toggleable style: style used for estimator/Pipeline/ColumnTransformer box that is\n",
       "clickable and can be expanded/collapsed.\n",
       "- Pipeline and ColumnTransformer use this feature and define the default style\n",
       "- Estimators will overwrite some part of the style using the `sk-estimator` class\n",
       "*/\n",
       "\n",
       "/* Pipeline and ColumnTransformer style (default) */\n",
       "\n",
       "#sk-container-id-1 div.sk-toggleable {\n",
       "  /* Default theme specific background. It is overwritten whether we have a\n",
       "  specific estimator or a Pipeline/ColumnTransformer */\n",
       "  background-color: var(--sklearn-color-background);\n",
       "}\n",
       "\n",
       "/* Toggleable label */\n",
       "#sk-container-id-1 label.sk-toggleable__label {\n",
       "  cursor: pointer;\n",
       "  display: block;\n",
       "  width: 100%;\n",
       "  margin-bottom: 0;\n",
       "  padding: 0.5em;\n",
       "  box-sizing: border-box;\n",
       "  text-align: center;\n",
       "}\n",
       "\n",
       "#sk-container-id-1 label.sk-toggleable__label-arrow:before {\n",
       "  /* Arrow on the left of the label */\n",
       "  content: \"▸\";\n",
       "  float: left;\n",
       "  margin-right: 0.25em;\n",
       "  color: var(--sklearn-color-icon);\n",
       "}\n",
       "\n",
       "#sk-container-id-1 label.sk-toggleable__label-arrow:hover:before {\n",
       "  color: var(--sklearn-color-text);\n",
       "}\n",
       "\n",
       "/* Toggleable content - dropdown */\n",
       "\n",
       "#sk-container-id-1 div.sk-toggleable__content {\n",
       "  max-height: 0;\n",
       "  max-width: 0;\n",
       "  overflow: hidden;\n",
       "  text-align: left;\n",
       "  /* unfitted */\n",
       "  background-color: var(--sklearn-color-unfitted-level-0);\n",
       "}\n",
       "\n",
       "#sk-container-id-1 div.sk-toggleable__content.fitted {\n",
       "  /* fitted */\n",
       "  background-color: var(--sklearn-color-fitted-level-0);\n",
       "}\n",
       "\n",
       "#sk-container-id-1 div.sk-toggleable__content pre {\n",
       "  margin: 0.2em;\n",
       "  border-radius: 0.25em;\n",
       "  color: var(--sklearn-color-text);\n",
       "  /* unfitted */\n",
       "  background-color: var(--sklearn-color-unfitted-level-0);\n",
       "}\n",
       "\n",
       "#sk-container-id-1 div.sk-toggleable__content.fitted pre {\n",
       "  /* unfitted */\n",
       "  background-color: var(--sklearn-color-fitted-level-0);\n",
       "}\n",
       "\n",
       "#sk-container-id-1 input.sk-toggleable__control:checked~div.sk-toggleable__content {\n",
       "  /* Expand drop-down */\n",
       "  max-height: 200px;\n",
       "  max-width: 100%;\n",
       "  overflow: auto;\n",
       "}\n",
       "\n",
       "#sk-container-id-1 input.sk-toggleable__control:checked~label.sk-toggleable__label-arrow:before {\n",
       "  content: \"▾\";\n",
       "}\n",
       "\n",
       "/* Pipeline/ColumnTransformer-specific style */\n",
       "\n",
       "#sk-container-id-1 div.sk-label input.sk-toggleable__control:checked~label.sk-toggleable__label {\n",
       "  color: var(--sklearn-color-text);\n",
       "  background-color: var(--sklearn-color-unfitted-level-2);\n",
       "}\n",
       "\n",
       "#sk-container-id-1 div.sk-label.fitted input.sk-toggleable__control:checked~label.sk-toggleable__label {\n",
       "  background-color: var(--sklearn-color-fitted-level-2);\n",
       "}\n",
       "\n",
       "/* Estimator-specific style */\n",
       "\n",
       "/* Colorize estimator box */\n",
       "#sk-container-id-1 div.sk-estimator input.sk-toggleable__control:checked~label.sk-toggleable__label {\n",
       "  /* unfitted */\n",
       "  background-color: var(--sklearn-color-unfitted-level-2);\n",
       "}\n",
       "\n",
       "#sk-container-id-1 div.sk-estimator.fitted input.sk-toggleable__control:checked~label.sk-toggleable__label {\n",
       "  /* fitted */\n",
       "  background-color: var(--sklearn-color-fitted-level-2);\n",
       "}\n",
       "\n",
       "#sk-container-id-1 div.sk-label label.sk-toggleable__label,\n",
       "#sk-container-id-1 div.sk-label label {\n",
       "  /* The background is the default theme color */\n",
       "  color: var(--sklearn-color-text-on-default-background);\n",
       "}\n",
       "\n",
       "/* On hover, darken the color of the background */\n",
       "#sk-container-id-1 div.sk-label:hover label.sk-toggleable__label {\n",
       "  color: var(--sklearn-color-text);\n",
       "  background-color: var(--sklearn-color-unfitted-level-2);\n",
       "}\n",
       "\n",
       "/* Label box, darken color on hover, fitted */\n",
       "#sk-container-id-1 div.sk-label.fitted:hover label.sk-toggleable__label.fitted {\n",
       "  color: var(--sklearn-color-text);\n",
       "  background-color: var(--sklearn-color-fitted-level-2);\n",
       "}\n",
       "\n",
       "/* Estimator label */\n",
       "\n",
       "#sk-container-id-1 div.sk-label label {\n",
       "  font-family: monospace;\n",
       "  font-weight: bold;\n",
       "  display: inline-block;\n",
       "  line-height: 1.2em;\n",
       "}\n",
       "\n",
       "#sk-container-id-1 div.sk-label-container {\n",
       "  text-align: center;\n",
       "}\n",
       "\n",
       "/* Estimator-specific */\n",
       "#sk-container-id-1 div.sk-estimator {\n",
       "  font-family: monospace;\n",
       "  border: 1px dotted var(--sklearn-color-border-box);\n",
       "  border-radius: 0.25em;\n",
       "  box-sizing: border-box;\n",
       "  margin-bottom: 0.5em;\n",
       "  /* unfitted */\n",
       "  background-color: var(--sklearn-color-unfitted-level-0);\n",
       "}\n",
       "\n",
       "#sk-container-id-1 div.sk-estimator.fitted {\n",
       "  /* fitted */\n",
       "  background-color: var(--sklearn-color-fitted-level-0);\n",
       "}\n",
       "\n",
       "/* on hover */\n",
       "#sk-container-id-1 div.sk-estimator:hover {\n",
       "  /* unfitted */\n",
       "  background-color: var(--sklearn-color-unfitted-level-2);\n",
       "}\n",
       "\n",
       "#sk-container-id-1 div.sk-estimator.fitted:hover {\n",
       "  /* fitted */\n",
       "  background-color: var(--sklearn-color-fitted-level-2);\n",
       "}\n",
       "\n",
       "/* Specification for estimator info (e.g. \"i\" and \"?\") */\n",
       "\n",
       "/* Common style for \"i\" and \"?\" */\n",
       "\n",
       ".sk-estimator-doc-link,\n",
       "a:link.sk-estimator-doc-link,\n",
       "a:visited.sk-estimator-doc-link {\n",
       "  float: right;\n",
       "  font-size: smaller;\n",
       "  line-height: 1em;\n",
       "  font-family: monospace;\n",
       "  background-color: var(--sklearn-color-background);\n",
       "  border-radius: 1em;\n",
       "  height: 1em;\n",
       "  width: 1em;\n",
       "  text-decoration: none !important;\n",
       "  margin-left: 1ex;\n",
       "  /* unfitted */\n",
       "  border: var(--sklearn-color-unfitted-level-1) 1pt solid;\n",
       "  color: var(--sklearn-color-unfitted-level-1);\n",
       "}\n",
       "\n",
       ".sk-estimator-doc-link.fitted,\n",
       "a:link.sk-estimator-doc-link.fitted,\n",
       "a:visited.sk-estimator-doc-link.fitted {\n",
       "  /* fitted */\n",
       "  border: var(--sklearn-color-fitted-level-1) 1pt solid;\n",
       "  color: var(--sklearn-color-fitted-level-1);\n",
       "}\n",
       "\n",
       "/* On hover */\n",
       "div.sk-estimator:hover .sk-estimator-doc-link:hover,\n",
       ".sk-estimator-doc-link:hover,\n",
       "div.sk-label-container:hover .sk-estimator-doc-link:hover,\n",
       ".sk-estimator-doc-link:hover {\n",
       "  /* unfitted */\n",
       "  background-color: var(--sklearn-color-unfitted-level-3);\n",
       "  color: var(--sklearn-color-background);\n",
       "  text-decoration: none;\n",
       "}\n",
       "\n",
       "div.sk-estimator.fitted:hover .sk-estimator-doc-link.fitted:hover,\n",
       ".sk-estimator-doc-link.fitted:hover,\n",
       "div.sk-label-container:hover .sk-estimator-doc-link.fitted:hover,\n",
       ".sk-estimator-doc-link.fitted:hover {\n",
       "  /* fitted */\n",
       "  background-color: var(--sklearn-color-fitted-level-3);\n",
       "  color: var(--sklearn-color-background);\n",
       "  text-decoration: none;\n",
       "}\n",
       "\n",
       "/* Span, style for the box shown on hovering the info icon */\n",
       ".sk-estimator-doc-link span {\n",
       "  display: none;\n",
       "  z-index: 9999;\n",
       "  position: relative;\n",
       "  font-weight: normal;\n",
       "  right: .2ex;\n",
       "  padding: .5ex;\n",
       "  margin: .5ex;\n",
       "  width: min-content;\n",
       "  min-width: 20ex;\n",
       "  max-width: 50ex;\n",
       "  color: var(--sklearn-color-text);\n",
       "  box-shadow: 2pt 2pt 4pt #999;\n",
       "  /* unfitted */\n",
       "  background: var(--sklearn-color-unfitted-level-0);\n",
       "  border: .5pt solid var(--sklearn-color-unfitted-level-3);\n",
       "}\n",
       "\n",
       ".sk-estimator-doc-link.fitted span {\n",
       "  /* fitted */\n",
       "  background: var(--sklearn-color-fitted-level-0);\n",
       "  border: var(--sklearn-color-fitted-level-3);\n",
       "}\n",
       "\n",
       ".sk-estimator-doc-link:hover span {\n",
       "  display: block;\n",
       "}\n",
       "\n",
       "/* \"?\"-specific style due to the `<a>` HTML tag */\n",
       "\n",
       "#sk-container-id-1 a.estimator_doc_link {\n",
       "  float: right;\n",
       "  font-size: 1rem;\n",
       "  line-height: 1em;\n",
       "  font-family: monospace;\n",
       "  background-color: var(--sklearn-color-background);\n",
       "  border-radius: 1rem;\n",
       "  height: 1rem;\n",
       "  width: 1rem;\n",
       "  text-decoration: none;\n",
       "  /* unfitted */\n",
       "  color: var(--sklearn-color-unfitted-level-1);\n",
       "  border: var(--sklearn-color-unfitted-level-1) 1pt solid;\n",
       "}\n",
       "\n",
       "#sk-container-id-1 a.estimator_doc_link.fitted {\n",
       "  /* fitted */\n",
       "  border: var(--sklearn-color-fitted-level-1) 1pt solid;\n",
       "  color: var(--sklearn-color-fitted-level-1);\n",
       "}\n",
       "\n",
       "/* On hover */\n",
       "#sk-container-id-1 a.estimator_doc_link:hover {\n",
       "  /* unfitted */\n",
       "  background-color: var(--sklearn-color-unfitted-level-3);\n",
       "  color: var(--sklearn-color-background);\n",
       "  text-decoration: none;\n",
       "}\n",
       "\n",
       "#sk-container-id-1 a.estimator_doc_link.fitted:hover {\n",
       "  /* fitted */\n",
       "  background-color: var(--sklearn-color-fitted-level-3);\n",
       "}\n",
       "</style><div id=\"sk-container-id-1\" class=\"sk-top-container\"><div class=\"sk-text-repr-fallback\"><pre>RandomizedSearchCV(cv=TimeSeriesSplit(gap=0, max_train_size=None, n_splits=5, test_size=None),\n",
       "                   estimator=Pipeline(steps=[(&#x27;preprocessor&#x27;,\n",
       "                                              ColumnTransformer(transformers=[(&#x27;num&#x27;,\n",
       "                                                                               StandardScaler(),\n",
       "                                                                               [&#x27;day&#x27;,\n",
       "                                                                                &#x27;hour&#x27;,\n",
       "                                                                                &#x27;is_weekend&#x27;,\n",
       "                                                                                &#x27;lag_1&#x27;,\n",
       "                                                                                &#x27;lag_2&#x27;,\n",
       "                                                                                &#x27;lag_3&#x27;,\n",
       "                                                                                &#x27;lag_4&#x27;,\n",
       "                                                                                &#x27;lag_5&#x27;,\n",
       "                                                                                &#x27;lag_6&#x27;,\n",
       "                                                                                &#x27;lag_7&#x27;,\n",
       "                                                                                &#x27;lag_8&#x27;,\n",
       "                                                                                &#x27;lag_9&#x27;,\n",
       "                                                                                &#x27;lag_10&#x27;,\n",
       "                                                                                &#x27;rolling_mean&#x27;])])),\n",
       "                                             (&#x27;model&#x27;, LinearRegression())]),\n",
       "                   n_...\n",
       "                                         &#x27;model__max_depth&#x27;: [5, 10, 15],\n",
       "                                         &#x27;model__min_samples_leaf&#x27;: [1, 2],\n",
       "                                         &#x27;model__min_samples_split&#x27;: [2, 5],\n",
       "                                         &#x27;model__n_estimators&#x27;: [50, 80, 100]},\n",
       "                                        {&#x27;model&#x27;: [LGBMRegressor()],\n",
       "                                         &#x27;model__learning_rate&#x27;: [0.01, 0.05,\n",
       "                                                                  0.1],\n",
       "                                         &#x27;model__max_depth&#x27;: [5, 10, 15],\n",
       "                                         &#x27;model__n_estimators&#x27;: [50, 80, 100],\n",
       "                                         &#x27;model__num_leaves&#x27;: [10, 20, 30]},\n",
       "                                        {&#x27;model&#x27;: [LinearRegression()]}],\n",
       "                   random_state=42, scoring=&#x27;neg_root_mean_squared_error&#x27;)</pre><b>In a Jupyter environment, please rerun this cell to show the HTML representation or trust the notebook. <br />On GitHub, the HTML representation is unable to render, please try loading this page with nbviewer.org.</b></div><div class=\"sk-container\" hidden><div class=\"sk-item sk-dashed-wrapped\"><div class=\"sk-label-container\"><div class=\"sk-label fitted sk-toggleable\"><input class=\"sk-toggleable__control sk-hidden--visually\" id=\"sk-estimator-id-1\" type=\"checkbox\" ><label for=\"sk-estimator-id-1\" class=\"sk-toggleable__label fitted sk-toggleable__label-arrow fitted\">&nbsp;&nbsp;RandomizedSearchCV<a class=\"sk-estimator-doc-link fitted\" rel=\"noreferrer\" target=\"_blank\" href=\"https://scikit-learn.org/1.5/modules/generated/sklearn.model_selection.RandomizedSearchCV.html\">?<span>Documentation for RandomizedSearchCV</span></a><span class=\"sk-estimator-doc-link fitted\">i<span>Fitted</span></span></label><div class=\"sk-toggleable__content fitted\"><pre>RandomizedSearchCV(cv=TimeSeriesSplit(gap=0, max_train_size=None, n_splits=5, test_size=None),\n",
       "                   estimator=Pipeline(steps=[(&#x27;preprocessor&#x27;,\n",
       "                                              ColumnTransformer(transformers=[(&#x27;num&#x27;,\n",
       "                                                                               StandardScaler(),\n",
       "                                                                               [&#x27;day&#x27;,\n",
       "                                                                                &#x27;hour&#x27;,\n",
       "                                                                                &#x27;is_weekend&#x27;,\n",
       "                                                                                &#x27;lag_1&#x27;,\n",
       "                                                                                &#x27;lag_2&#x27;,\n",
       "                                                                                &#x27;lag_3&#x27;,\n",
       "                                                                                &#x27;lag_4&#x27;,\n",
       "                                                                                &#x27;lag_5&#x27;,\n",
       "                                                                                &#x27;lag_6&#x27;,\n",
       "                                                                                &#x27;lag_7&#x27;,\n",
       "                                                                                &#x27;lag_8&#x27;,\n",
       "                                                                                &#x27;lag_9&#x27;,\n",
       "                                                                                &#x27;lag_10&#x27;,\n",
       "                                                                                &#x27;rolling_mean&#x27;])])),\n",
       "                                             (&#x27;model&#x27;, LinearRegression())]),\n",
       "                   n_...\n",
       "                                         &#x27;model__max_depth&#x27;: [5, 10, 15],\n",
       "                                         &#x27;model__min_samples_leaf&#x27;: [1, 2],\n",
       "                                         &#x27;model__min_samples_split&#x27;: [2, 5],\n",
       "                                         &#x27;model__n_estimators&#x27;: [50, 80, 100]},\n",
       "                                        {&#x27;model&#x27;: [LGBMRegressor()],\n",
       "                                         &#x27;model__learning_rate&#x27;: [0.01, 0.05,\n",
       "                                                                  0.1],\n",
       "                                         &#x27;model__max_depth&#x27;: [5, 10, 15],\n",
       "                                         &#x27;model__n_estimators&#x27;: [50, 80, 100],\n",
       "                                         &#x27;model__num_leaves&#x27;: [10, 20, 30]},\n",
       "                                        {&#x27;model&#x27;: [LinearRegression()]}],\n",
       "                   random_state=42, scoring=&#x27;neg_root_mean_squared_error&#x27;)</pre></div> </div></div><div class=\"sk-parallel\"><div class=\"sk-parallel-item\"><div class=\"sk-item\"><div class=\"sk-label-container\"><div class=\"sk-label fitted sk-toggleable\"><input class=\"sk-toggleable__control sk-hidden--visually\" id=\"sk-estimator-id-2\" type=\"checkbox\" ><label for=\"sk-estimator-id-2\" class=\"sk-toggleable__label fitted sk-toggleable__label-arrow fitted\">best_estimator_: Pipeline</label><div class=\"sk-toggleable__content fitted\"><pre>Pipeline(steps=[(&#x27;preprocessor&#x27;,\n",
       "                 ColumnTransformer(transformers=[(&#x27;num&#x27;, StandardScaler(),\n",
       "                                                  [&#x27;day&#x27;, &#x27;hour&#x27;, &#x27;is_weekend&#x27;,\n",
       "                                                   &#x27;lag_1&#x27;, &#x27;lag_2&#x27;, &#x27;lag_3&#x27;,\n",
       "                                                   &#x27;lag_4&#x27;, &#x27;lag_5&#x27;, &#x27;lag_6&#x27;,\n",
       "                                                   &#x27;lag_7&#x27;, &#x27;lag_8&#x27;, &#x27;lag_9&#x27;,\n",
       "                                                   &#x27;lag_10&#x27;,\n",
       "                                                   &#x27;rolling_mean&#x27;])])),\n",
       "                (&#x27;model&#x27;,\n",
       "                 LGBMRegressor(learning_rate=0.05, max_depth=15,\n",
       "                               num_leaves=30))])</pre></div> </div></div><div class=\"sk-serial\"><div class=\"sk-item\"><div class=\"sk-serial\"><div class=\"sk-item sk-dashed-wrapped\"><div class=\"sk-label-container\"><div class=\"sk-label fitted sk-toggleable\"><input class=\"sk-toggleable__control sk-hidden--visually\" id=\"sk-estimator-id-3\" type=\"checkbox\" ><label for=\"sk-estimator-id-3\" class=\"sk-toggleable__label fitted sk-toggleable__label-arrow fitted\">&nbsp;preprocessor: ColumnTransformer<a class=\"sk-estimator-doc-link fitted\" rel=\"noreferrer\" target=\"_blank\" href=\"https://scikit-learn.org/1.5/modules/generated/sklearn.compose.ColumnTransformer.html\">?<span>Documentation for preprocessor: ColumnTransformer</span></a></label><div class=\"sk-toggleable__content fitted\"><pre>ColumnTransformer(transformers=[(&#x27;num&#x27;, StandardScaler(),\n",
       "                                 [&#x27;day&#x27;, &#x27;hour&#x27;, &#x27;is_weekend&#x27;, &#x27;lag_1&#x27;, &#x27;lag_2&#x27;,\n",
       "                                  &#x27;lag_3&#x27;, &#x27;lag_4&#x27;, &#x27;lag_5&#x27;, &#x27;lag_6&#x27;, &#x27;lag_7&#x27;,\n",
       "                                  &#x27;lag_8&#x27;, &#x27;lag_9&#x27;, &#x27;lag_10&#x27;,\n",
       "                                  &#x27;rolling_mean&#x27;])])</pre></div> </div></div><div class=\"sk-parallel\"><div class=\"sk-parallel-item\"><div class=\"sk-item\"><div class=\"sk-label-container\"><div class=\"sk-label fitted sk-toggleable\"><input class=\"sk-toggleable__control sk-hidden--visually\" id=\"sk-estimator-id-4\" type=\"checkbox\" ><label for=\"sk-estimator-id-4\" class=\"sk-toggleable__label fitted sk-toggleable__label-arrow fitted\">num</label><div class=\"sk-toggleable__content fitted\"><pre>[&#x27;day&#x27;, &#x27;hour&#x27;, &#x27;is_weekend&#x27;, &#x27;lag_1&#x27;, &#x27;lag_2&#x27;, &#x27;lag_3&#x27;, &#x27;lag_4&#x27;, &#x27;lag_5&#x27;, &#x27;lag_6&#x27;, &#x27;lag_7&#x27;, &#x27;lag_8&#x27;, &#x27;lag_9&#x27;, &#x27;lag_10&#x27;, &#x27;rolling_mean&#x27;]</pre></div> </div></div><div class=\"sk-serial\"><div class=\"sk-item\"><div class=\"sk-estimator fitted sk-toggleable\"><input class=\"sk-toggleable__control sk-hidden--visually\" id=\"sk-estimator-id-5\" type=\"checkbox\" ><label for=\"sk-estimator-id-5\" class=\"sk-toggleable__label fitted sk-toggleable__label-arrow fitted\">&nbsp;StandardScaler<a class=\"sk-estimator-doc-link fitted\" rel=\"noreferrer\" target=\"_blank\" href=\"https://scikit-learn.org/1.5/modules/generated/sklearn.preprocessing.StandardScaler.html\">?<span>Documentation for StandardScaler</span></a></label><div class=\"sk-toggleable__content fitted\"><pre>StandardScaler()</pre></div> </div></div></div></div></div></div></div><div class=\"sk-item\"><div class=\"sk-estimator fitted sk-toggleable\"><input class=\"sk-toggleable__control sk-hidden--visually\" id=\"sk-estimator-id-6\" type=\"checkbox\" ><label for=\"sk-estimator-id-6\" class=\"sk-toggleable__label fitted sk-toggleable__label-arrow fitted\">LGBMRegressor</label><div class=\"sk-toggleable__content fitted\"><pre>LGBMRegressor(learning_rate=0.05, max_depth=15, num_leaves=30)</pre></div> </div></div></div></div></div></div></div></div></div></div></div>"
      ],
      "text/plain": [
       "RandomizedSearchCV(cv=TimeSeriesSplit(gap=0, max_train_size=None, n_splits=5, test_size=None),\n",
       "                   estimator=Pipeline(steps=[('preprocessor',\n",
       "                                              ColumnTransformer(transformers=[('num',\n",
       "                                                                               StandardScaler(),\n",
       "                                                                               ['day',\n",
       "                                                                                'hour',\n",
       "                                                                                'is_weekend',\n",
       "                                                                                'lag_1',\n",
       "                                                                                'lag_2',\n",
       "                                                                                'lag_3',\n",
       "                                                                                'lag_4',\n",
       "                                                                                'lag_5',\n",
       "                                                                                'lag_6',\n",
       "                                                                                'lag_7',\n",
       "                                                                                'lag_8',\n",
       "                                                                                'lag_9',\n",
       "                                                                                'lag_10',\n",
       "                                                                                'rolling_mean'])])),\n",
       "                                             ('model', LinearRegression())]),\n",
       "                   n_...\n",
       "                                         'model__max_depth': [5, 10, 15],\n",
       "                                         'model__min_samples_leaf': [1, 2],\n",
       "                                         'model__min_samples_split': [2, 5],\n",
       "                                         'model__n_estimators': [50, 80, 100]},\n",
       "                                        {'model': [LGBMRegressor()],\n",
       "                                         'model__learning_rate': [0.01, 0.05,\n",
       "                                                                  0.1],\n",
       "                                         'model__max_depth': [5, 10, 15],\n",
       "                                         'model__n_estimators': [50, 80, 100],\n",
       "                                         'model__num_leaves': [10, 20, 30]},\n",
       "                                        {'model': [LinearRegression()]}],\n",
       "                   random_state=42, scoring='neg_root_mean_squared_error')"
      ]
     },
     "execution_count": 58,
     "metadata": {},
     "output_type": "execute_result"
    }
   ],
   "source": [
    "random_search.fit(X_train, y_train) \n"
   ]
  },
  {
   "cell_type": "code",
   "execution_count": 59,
   "metadata": {},
   "outputs": [
    {
     "name": "stdout",
     "output_type": "stream",
     "text": [
      "Best Model: Pipeline(steps=[('preprocessor',\n",
      "                 ColumnTransformer(transformers=[('num', StandardScaler(),\n",
      "                                                  ['day', 'hour', 'is_weekend',\n",
      "                                                   'lag_1', 'lag_2', 'lag_3',\n",
      "                                                   'lag_4', 'lag_5', 'lag_6',\n",
      "                                                   'lag_7', 'lag_8', 'lag_9',\n",
      "                                                   'lag_10',\n",
      "                                                   'rolling_mean'])])),\n",
      "                ('model',\n",
      "                 LGBMRegressor(learning_rate=0.05, max_depth=15,\n",
      "                               num_leaves=30))])\n"
     ]
    }
   ],
   "source": [
    "print(f\"Best Model: {random_search.best_estimator_}\")"
   ]
  },
  {
   "cell_type": "code",
   "execution_count": 60,
   "metadata": {},
   "outputs": [
    {
     "name": "stdout",
     "output_type": "stream",
     "text": [
      "Best model metric 25.89960551786633\n"
     ]
    }
   ],
   "source": [
    "best_score = -1 * random_search.best_score_\n",
    "print('Best model metric', best_score)"
   ]
  },
  {
   "cell_type": "markdown",
   "metadata": {},
   "source": [
    "Best model based on hyperparameter tuning is **LGBMRegressor** with **RMSE metric 25.7**"
   ]
  },
  {
   "cell_type": "markdown",
   "metadata": {},
   "source": [
    "## Тестирование"
   ]
  },
  {
   "cell_type": "markdown",
   "metadata": {},
   "source": [
    "Lets run the model on test data set "
   ]
  },
  {
   "cell_type": "code",
   "execution_count": 65,
   "metadata": {},
   "outputs": [],
   "source": [
    "y_pred = random_search.best_estimator_.predict(X_test)"
   ]
  },
  {
   "cell_type": "code",
   "execution_count": 66,
   "metadata": {},
   "outputs": [
    {
     "name": "stdout",
     "output_type": "stream",
     "text": [
      "Test RMSE: 45.23988479094336\n"
     ]
    }
   ],
   "source": [
    "mse = mean_squared_error(y_test, y_pred)\n",
    "rmse = np.sqrt(mse)\n",
    "\n",
    "print(f\"Test RMSE: {rmse}\")"
   ]
  },
  {
   "cell_type": "markdown",
   "metadata": {},
   "source": [
    "RMSE on test data is 45.2"
   ]
  },
  {
   "cell_type": "code",
   "execution_count": 71,
   "metadata": {},
   "outputs": [
    {
     "data": {
      "image/png": "[encoded data removed]",
      "text/plain": [
       "<Figure size 1200x800 with 1 Axes>"
      ]
     },
     "metadata": {},
     "output_type": "display_data"
    }
   ],
   "source": [
    "plt.figure(figsize=(12, 8))\n",
    "\n",
    "plt.plot(y_test.values, label='Actual', color='blue')\n",
    "plt.plot(y_pred, label='Predicted', color='red')\n",
    "plt.ylabel('Target')\n",
    "plt.title('Actual vs Predicted')\n",
    "\n",
    "plt.legend()\n",
    "plt.show()\n"
   ]
  },
  {
   "cell_type": "markdown",
   "metadata": {},
   "source": [
    "From the comparison graph of actual values and predictions, it can be observed that the model performs well with predictions for small or medium taxi demand. However, it struggles with predicting peak values. It is clearly visible that for the two highest peaks, the model significantly underestimates the predicted values"
   ]
  }
 ],
 "metadata": {
  "ExecuteTimeLog": [
   {
    "duration": 1921,
    "start_time": "2024-10-09T08:55:48.842Z"
   },
   {
    "duration": 161,
    "start_time": "2024-10-09T08:55:54.808Z"
   },
   {
    "duration": 140,
    "start_time": "2024-10-09T08:56:17.876Z"
   },
   {
    "duration": 11,
    "start_time": "2024-10-09T08:56:20.411Z"
   },
   {
    "duration": 7,
    "start_time": "2024-10-09T08:56:26.476Z"
   },
   {
    "duration": 11,
    "start_time": "2024-10-09T08:58:08.199Z"
   },
   {
    "duration": 3,
    "start_time": "2024-10-09T08:58:35.370Z"
   },
   {
    "duration": 836,
    "start_time": "2024-10-09T08:59:08.265Z"
   },
   {
    "duration": 19,
    "start_time": "2024-10-09T08:59:15.941Z"
   },
   {
    "duration": 1566,
    "start_time": "2024-10-09T09:57:55.441Z"
   },
   {
    "duration": 87,
    "start_time": "2024-10-09T09:57:57.009Z"
   },
   {
    "duration": 11,
    "start_time": "2024-10-09T09:57:57.098Z"
   },
   {
    "duration": 32,
    "start_time": "2024-10-09T09:57:57.111Z"
   },
   {
    "duration": 17,
    "start_time": "2024-10-09T09:57:57.146Z"
   },
   {
    "duration": 4,
    "start_time": "2024-10-09T09:57:57.164Z"
   },
   {
    "duration": 16,
    "start_time": "2024-10-09T09:57:57.169Z"
   },
   {
    "duration": 316,
    "start_time": "2024-10-09T09:57:57.186Z"
   },
   {
    "duration": 768,
    "start_time": "2024-10-09T09:57:57.504Z"
   },
   {
    "duration": 27,
    "start_time": "2024-10-09T09:57:58.274Z"
   },
   {
    "duration": 5,
    "start_time": "2024-10-09T09:57:58.302Z"
   },
   {
    "duration": 19,
    "start_time": "2024-10-09T09:57:58.308Z"
   },
   {
    "duration": 17,
    "start_time": "2024-10-09T09:57:58.329Z"
   },
   {
    "duration": 3,
    "start_time": "2024-10-09T09:57:58.350Z"
   },
   {
    "duration": 23,
    "start_time": "2024-10-09T09:57:58.354Z"
   },
   {
    "duration": 15,
    "start_time": "2024-10-09T09:57:58.379Z"
   },
   {
    "duration": 1459,
    "start_time": "2024-10-09T10:01:42.774Z"
   },
   {
    "duration": 85,
    "start_time": "2024-10-09T10:01:44.235Z"
   },
   {
    "duration": 11,
    "start_time": "2024-10-09T10:01:44.322Z"
   },
   {
    "duration": 16,
    "start_time": "2024-10-09T10:01:44.335Z"
   },
   {
    "duration": 25,
    "start_time": "2024-10-09T10:01:44.354Z"
   },
   {
    "duration": 11,
    "start_time": "2024-10-09T10:01:44.381Z"
   },
   {
    "duration": 23,
    "start_time": "2024-10-09T10:01:44.394Z"
   },
   {
    "duration": 334,
    "start_time": "2024-10-09T10:01:44.419Z"
   },
   {
    "duration": 94,
    "start_time": "2024-10-09T10:01:44.755Z"
   },
   {
    "duration": 0,
    "start_time": "2024-10-09T10:01:44.851Z"
   },
   {
    "duration": 0,
    "start_time": "2024-10-09T10:01:44.853Z"
   },
   {
    "duration": 0,
    "start_time": "2024-10-09T10:01:44.854Z"
   },
   {
    "duration": 0,
    "start_time": "2024-10-09T10:01:44.855Z"
   },
   {
    "duration": 0,
    "start_time": "2024-10-09T10:01:44.856Z"
   },
   {
    "duration": 0,
    "start_time": "2024-10-09T10:01:44.857Z"
   },
   {
    "duration": 1,
    "start_time": "2024-10-09T10:01:44.858Z"
   },
   {
    "duration": 0,
    "start_time": "2024-10-09T10:01:44.860Z"
   },
   {
    "duration": 0,
    "start_time": "2024-10-09T10:01:44.861Z"
   },
   {
    "duration": 0,
    "start_time": "2024-10-09T10:01:44.862Z"
   },
   {
    "duration": 0,
    "start_time": "2024-10-09T10:01:44.864Z"
   },
   {
    "duration": 0,
    "start_time": "2024-10-09T10:01:44.865Z"
   },
   {
    "duration": 826,
    "start_time": "2024-10-09T10:01:58.470Z"
   },
   {
    "duration": 617,
    "start_time": "2024-10-09T10:02:11.852Z"
   },
   {
    "duration": 43,
    "start_time": "2024-10-10T07:30:19.457Z"
   },
   {
    "duration": 1467,
    "start_time": "2024-10-10T07:30:35.465Z"
   },
   {
    "duration": 143,
    "start_time": "2024-10-10T07:30:36.934Z"
   },
   {
    "duration": 12,
    "start_time": "2024-10-10T07:30:37.078Z"
   },
   {
    "duration": 62,
    "start_time": "2024-10-10T07:30:37.091Z"
   },
   {
    "duration": 47,
    "start_time": "2024-10-10T07:30:37.155Z"
   },
   {
    "duration": 15,
    "start_time": "2024-10-10T07:30:37.204Z"
   },
   {
    "duration": 23,
    "start_time": "2024-10-10T07:30:37.222Z"
   },
   {
    "duration": 304,
    "start_time": "2024-10-10T07:30:37.246Z"
   },
   {
    "duration": 242,
    "start_time": "2024-10-10T07:30:37.551Z"
   },
   {
    "duration": 7,
    "start_time": "2024-10-10T07:30:37.794Z"
   },
   {
    "duration": 76,
    "start_time": "2024-10-10T07:30:37.802Z"
   },
   {
    "duration": 4,
    "start_time": "2024-10-10T07:30:37.879Z"
   },
   {
    "duration": 4,
    "start_time": "2024-10-10T07:30:37.884Z"
   },
   {
    "duration": 34,
    "start_time": "2024-10-10T07:30:37.890Z"
   },
   {
    "duration": 2,
    "start_time": "2024-10-10T07:30:37.926Z"
   },
   {
    "duration": 5,
    "start_time": "2024-10-10T07:30:37.930Z"
   },
   {
    "duration": 6,
    "start_time": "2024-10-10T07:30:37.937Z"
   },
   {
    "duration": 1321,
    "start_time": "2024-10-10T07:32:02.636Z"
   },
   {
    "duration": 101,
    "start_time": "2024-10-10T07:32:03.959Z"
   },
   {
    "duration": 21,
    "start_time": "2024-10-10T07:32:04.061Z"
   },
   {
    "duration": 77,
    "start_time": "2024-10-10T07:32:04.083Z"
   },
   {
    "duration": 39,
    "start_time": "2024-10-10T07:32:04.162Z"
   },
   {
    "duration": 4,
    "start_time": "2024-10-10T07:32:04.202Z"
   },
   {
    "duration": 18,
    "start_time": "2024-10-10T07:32:04.207Z"
   },
   {
    "duration": 263,
    "start_time": "2024-10-10T07:32:04.227Z"
   },
   {
    "duration": 234,
    "start_time": "2024-10-10T07:32:04.491Z"
   },
   {
    "duration": 117,
    "start_time": "2024-10-10T07:32:04.726Z"
   },
   {
    "duration": 0,
    "start_time": "2024-10-10T07:32:04.845Z"
   },
   {
    "duration": 0,
    "start_time": "2024-10-10T07:32:04.846Z"
   },
   {
    "duration": 0,
    "start_time": "2024-10-10T07:32:04.847Z"
   },
   {
    "duration": 0,
    "start_time": "2024-10-10T07:32:04.848Z"
   },
   {
    "duration": 0,
    "start_time": "2024-10-10T07:32:04.848Z"
   },
   {
    "duration": 0,
    "start_time": "2024-10-10T07:32:04.849Z"
   },
   {
    "duration": 0,
    "start_time": "2024-10-10T07:32:04.850Z"
   },
   {
    "duration": 0,
    "start_time": "2024-10-10T07:32:04.851Z"
   },
   {
    "duration": 0,
    "start_time": "2024-10-10T07:32:04.852Z"
   },
   {
    "duration": 0,
    "start_time": "2024-10-10T07:32:04.853Z"
   },
   {
    "duration": 0,
    "start_time": "2024-10-10T07:32:04.854Z"
   },
   {
    "duration": 0,
    "start_time": "2024-10-10T07:32:04.855Z"
   },
   {
    "duration": 141,
    "start_time": "2024-10-10T07:33:06.825Z"
   },
   {
    "duration": 169,
    "start_time": "2024-10-10T07:33:26.901Z"
   },
   {
    "duration": 155,
    "start_time": "2024-10-10T07:36:16.466Z"
   },
   {
    "duration": 190,
    "start_time": "2024-10-10T07:46:49.483Z"
   },
   {
    "duration": 181,
    "start_time": "2024-10-10T07:46:59.520Z"
   },
   {
    "duration": 185,
    "start_time": "2024-10-10T07:48:16.530Z"
   },
   {
    "duration": 185,
    "start_time": "2024-10-10T07:49:14.313Z"
   },
   {
    "duration": 192,
    "start_time": "2024-10-10T07:50:11.918Z"
   },
   {
    "duration": 183,
    "start_time": "2024-10-10T07:54:32.009Z"
   },
   {
    "duration": 191,
    "start_time": "2024-10-10T07:54:58.548Z"
   },
   {
    "duration": 156,
    "start_time": "2024-10-10T07:55:11.307Z"
   },
   {
    "duration": 249,
    "start_time": "2024-10-10T07:55:19.596Z"
   },
   {
    "duration": 258,
    "start_time": "2024-10-10T07:55:31.575Z"
   },
   {
    "duration": 211,
    "start_time": "2024-10-10T07:56:38.137Z"
   },
   {
    "duration": 223,
    "start_time": "2024-10-10T07:57:16.531Z"
   },
   {
    "duration": 17,
    "start_time": "2024-10-10T08:09:26.904Z"
   },
   {
    "duration": 15,
    "start_time": "2024-10-10T08:12:21.455Z"
   },
   {
    "duration": 20,
    "start_time": "2024-10-10T08:12:47.418Z"
   },
   {
    "duration": 30,
    "start_time": "2024-10-10T08:13:15.010Z"
   },
   {
    "duration": 4,
    "start_time": "2024-10-10T08:13:49.802Z"
   },
   {
    "duration": 3,
    "start_time": "2024-10-10T08:14:38.934Z"
   },
   {
    "duration": 7,
    "start_time": "2024-10-10T08:14:41.928Z"
   },
   {
    "duration": 3,
    "start_time": "2024-10-10T08:15:06.286Z"
   },
   {
    "duration": 4,
    "start_time": "2024-10-10T08:15:11.653Z"
   },
   {
    "duration": 3,
    "start_time": "2024-10-10T08:15:46.977Z"
   },
   {
    "duration": 1281,
    "start_time": "2024-10-10T08:22:46.896Z"
   },
   {
    "duration": 89,
    "start_time": "2024-10-10T08:22:48.179Z"
   },
   {
    "duration": 8,
    "start_time": "2024-10-10T08:22:48.269Z"
   },
   {
    "duration": 16,
    "start_time": "2024-10-10T08:22:48.278Z"
   },
   {
    "duration": 10,
    "start_time": "2024-10-10T08:22:48.296Z"
   },
   {
    "duration": 3,
    "start_time": "2024-10-10T08:22:48.307Z"
   },
   {
    "duration": 13,
    "start_time": "2024-10-10T08:22:48.317Z"
   },
   {
    "duration": 255,
    "start_time": "2024-10-10T08:22:48.331Z"
   },
   {
    "duration": 223,
    "start_time": "2024-10-10T08:22:48.588Z"
   },
   {
    "duration": 155,
    "start_time": "2024-10-10T08:22:48.818Z"
   },
   {
    "duration": 214,
    "start_time": "2024-10-10T08:22:48.975Z"
   },
   {
    "duration": 202,
    "start_time": "2024-10-10T08:22:49.191Z"
   },
   {
    "duration": 25,
    "start_time": "2024-10-10T08:22:49.395Z"
   },
   {
    "duration": 3,
    "start_time": "2024-10-10T08:22:49.423Z"
   },
   {
    "duration": 6,
    "start_time": "2024-10-10T08:22:49.427Z"
   },
   {
    "duration": 125,
    "start_time": "2024-10-10T08:22:49.434Z"
   },
   {
    "duration": 0,
    "start_time": "2024-10-10T08:22:49.560Z"
   },
   {
    "duration": 0,
    "start_time": "2024-10-10T08:22:49.561Z"
   },
   {
    "duration": 0,
    "start_time": "2024-10-10T08:22:49.562Z"
   },
   {
    "duration": 0,
    "start_time": "2024-10-10T08:22:49.563Z"
   },
   {
    "duration": 0,
    "start_time": "2024-10-10T08:22:49.564Z"
   },
   {
    "duration": 0,
    "start_time": "2024-10-10T08:22:49.565Z"
   },
   {
    "duration": 0,
    "start_time": "2024-10-10T08:22:49.566Z"
   },
   {
    "duration": 0,
    "start_time": "2024-10-10T08:22:49.567Z"
   },
   {
    "duration": 3,
    "start_time": "2024-10-10T08:24:38.038Z"
   },
   {
    "duration": 15,
    "start_time": "2024-10-10T08:24:38.678Z"
   },
   {
    "duration": 13,
    "start_time": "2024-10-10T08:26:05.829Z"
   },
   {
    "duration": 1317,
    "start_time": "2024-10-10T08:26:13.376Z"
   },
   {
    "duration": 78,
    "start_time": "2024-10-10T08:26:14.695Z"
   },
   {
    "duration": 8,
    "start_time": "2024-10-10T08:26:14.774Z"
   },
   {
    "duration": 18,
    "start_time": "2024-10-10T08:26:14.783Z"
   },
   {
    "duration": 22,
    "start_time": "2024-10-10T08:26:14.803Z"
   },
   {
    "duration": 4,
    "start_time": "2024-10-10T08:26:14.826Z"
   },
   {
    "duration": 9,
    "start_time": "2024-10-10T08:26:14.831Z"
   },
   {
    "duration": 333,
    "start_time": "2024-10-10T08:26:14.841Z"
   },
   {
    "duration": 192,
    "start_time": "2024-10-10T08:26:15.176Z"
   },
   {
    "duration": 208,
    "start_time": "2024-10-10T08:26:15.370Z"
   },
   {
    "duration": 194,
    "start_time": "2024-10-10T08:26:15.580Z"
   },
   {
    "duration": 220,
    "start_time": "2024-10-10T08:26:15.776Z"
   },
   {
    "duration": 32,
    "start_time": "2024-10-10T08:26:15.997Z"
   },
   {
    "duration": 4,
    "start_time": "2024-10-10T08:26:16.031Z"
   },
   {
    "duration": 10,
    "start_time": "2024-10-10T08:26:16.036Z"
   },
   {
    "duration": 148,
    "start_time": "2024-10-10T08:26:16.047Z"
   },
   {
    "duration": 0,
    "start_time": "2024-10-10T08:26:16.196Z"
   },
   {
    "duration": 0,
    "start_time": "2024-10-10T08:26:16.197Z"
   },
   {
    "duration": 0,
    "start_time": "2024-10-10T08:26:16.199Z"
   },
   {
    "duration": 0,
    "start_time": "2024-10-10T08:26:16.200Z"
   },
   {
    "duration": 0,
    "start_time": "2024-10-10T08:26:16.201Z"
   },
   {
    "duration": 0,
    "start_time": "2024-10-10T08:26:16.202Z"
   },
   {
    "duration": 0,
    "start_time": "2024-10-10T08:26:16.203Z"
   },
   {
    "duration": 0,
    "start_time": "2024-10-10T08:26:16.211Z"
   },
   {
    "duration": 13,
    "start_time": "2024-10-10T08:26:39.758Z"
   },
   {
    "duration": 13,
    "start_time": "2024-10-10T08:27:58.888Z"
   },
   {
    "duration": 12,
    "start_time": "2024-10-10T08:28:01.534Z"
   },
   {
    "duration": 1374,
    "start_time": "2024-10-10T08:28:46.528Z"
   },
   {
    "duration": 76,
    "start_time": "2024-10-10T08:28:47.903Z"
   },
   {
    "duration": 9,
    "start_time": "2024-10-10T08:28:47.980Z"
   },
   {
    "duration": 12,
    "start_time": "2024-10-10T08:28:47.990Z"
   },
   {
    "duration": 21,
    "start_time": "2024-10-10T08:28:48.004Z"
   },
   {
    "duration": 3,
    "start_time": "2024-10-10T08:28:48.027Z"
   },
   {
    "duration": 10,
    "start_time": "2024-10-10T08:28:48.032Z"
   },
   {
    "duration": 282,
    "start_time": "2024-10-10T08:28:48.043Z"
   },
   {
    "duration": 219,
    "start_time": "2024-10-10T08:28:48.326Z"
   },
   {
    "duration": 144,
    "start_time": "2024-10-10T08:28:48.546Z"
   },
   {
    "duration": 218,
    "start_time": "2024-10-10T08:28:48.692Z"
   },
   {
    "duration": 221,
    "start_time": "2024-10-10T08:28:48.911Z"
   },
   {
    "duration": 27,
    "start_time": "2024-10-10T08:28:49.133Z"
   },
   {
    "duration": 4,
    "start_time": "2024-10-10T08:28:49.163Z"
   },
   {
    "duration": 4,
    "start_time": "2024-10-10T08:28:49.168Z"
   },
   {
    "duration": 133,
    "start_time": "2024-10-10T08:28:49.173Z"
   },
   {
    "duration": 0,
    "start_time": "2024-10-10T08:28:49.307Z"
   },
   {
    "duration": 0,
    "start_time": "2024-10-10T08:28:49.308Z"
   },
   {
    "duration": 0,
    "start_time": "2024-10-10T08:28:49.311Z"
   },
   {
    "duration": 0,
    "start_time": "2024-10-10T08:28:49.312Z"
   },
   {
    "duration": 0,
    "start_time": "2024-10-10T08:28:49.312Z"
   },
   {
    "duration": 0,
    "start_time": "2024-10-10T08:28:49.313Z"
   },
   {
    "duration": 0,
    "start_time": "2024-10-10T08:28:49.314Z"
   },
   {
    "duration": 0,
    "start_time": "2024-10-10T08:28:49.314Z"
   },
   {
    "duration": 17,
    "start_time": "2024-10-10T08:29:10.657Z"
   },
   {
    "duration": 17,
    "start_time": "2024-10-10T08:29:51.608Z"
   },
   {
    "duration": 17,
    "start_time": "2024-10-10T08:30:27.889Z"
   },
   {
    "duration": 4,
    "start_time": "2024-10-10T08:30:36.025Z"
   },
   {
    "duration": 2,
    "start_time": "2024-10-10T08:30:37.272Z"
   },
   {
    "duration": 8,
    "start_time": "2024-10-10T08:30:42.640Z"
   },
   {
    "duration": 2,
    "start_time": "2024-10-10T08:30:44.045Z"
   },
   {
    "duration": 5,
    "start_time": "2024-10-10T08:30:45.883Z"
   },
   {
    "duration": 3,
    "start_time": "2024-10-10T08:30:49.249Z"
   },
   {
    "duration": 508328,
    "start_time": "2024-10-10T08:30:51.600Z"
   },
   {
    "duration": 11,
    "start_time": "2024-10-10T08:44:37.564Z"
   },
   {
    "duration": 3,
    "start_time": "2024-10-10T08:44:41.656Z"
   },
   {
    "duration": 1297,
    "start_time": "2024-10-10T16:03:34.770Z"
   },
   {
    "duration": 91,
    "start_time": "2024-10-10T16:03:36.069Z"
   },
   {
    "duration": 8,
    "start_time": "2024-10-10T16:03:36.162Z"
   },
   {
    "duration": 11,
    "start_time": "2024-10-10T16:03:36.172Z"
   },
   {
    "duration": 22,
    "start_time": "2024-10-10T16:03:36.185Z"
   },
   {
    "duration": 3,
    "start_time": "2024-10-10T16:03:36.208Z"
   },
   {
    "duration": 13,
    "start_time": "2024-10-10T16:03:36.213Z"
   },
   {
    "duration": 247,
    "start_time": "2024-10-10T16:03:36.227Z"
   },
   {
    "duration": 217,
    "start_time": "2024-10-10T16:03:36.475Z"
   },
   {
    "duration": 145,
    "start_time": "2024-10-10T16:03:36.693Z"
   },
   {
    "duration": 187,
    "start_time": "2024-10-10T16:03:36.840Z"
   },
   {
    "duration": 235,
    "start_time": "2024-10-10T16:03:37.029Z"
   },
   {
    "duration": 18,
    "start_time": "2024-10-10T16:03:37.266Z"
   },
   {
    "duration": 4,
    "start_time": "2024-10-10T16:03:37.293Z"
   },
   {
    "duration": 13,
    "start_time": "2024-10-10T16:03:37.299Z"
   },
   {
    "duration": 7,
    "start_time": "2024-10-10T16:03:37.313Z"
   },
   {
    "duration": 2,
    "start_time": "2024-10-10T16:03:37.322Z"
   },
   {
    "duration": 16,
    "start_time": "2024-10-10T16:03:37.326Z"
   },
   {
    "duration": 14,
    "start_time": "2024-10-10T16:03:37.343Z"
   },
   {
    "duration": 31871,
    "start_time": "2024-10-10T16:03:37.358Z"
   },
   {
    "duration": 86,
    "start_time": "2024-10-10T16:04:09.230Z"
   },
   {
    "duration": 6,
    "start_time": "2024-10-10T16:04:09.317Z"
   },
   {
    "duration": 15,
    "start_time": "2024-10-10T16:04:09.324Z"
   },
   {
    "duration": 150,
    "start_time": "2024-10-10T16:04:09.411Z"
   },
   {
    "duration": 9,
    "start_time": "2024-10-10T16:05:22.921Z"
   },
   {
    "duration": 3,
    "start_time": "2024-10-10T16:05:23.544Z"
   },
   {
    "duration": 4,
    "start_time": "2024-10-10T16:05:24.745Z"
   },
   {
    "duration": 3,
    "start_time": "2024-10-10T16:05:28.860Z"
   },
   {
    "duration": 12,
    "start_time": "2024-10-10T16:05:29.840Z"
   },
   {
    "duration": 1326,
    "start_time": "2024-10-10T16:05:43.593Z"
   },
   {
    "duration": 79,
    "start_time": "2024-10-10T16:05:44.921Z"
   },
   {
    "duration": 8,
    "start_time": "2024-10-10T16:05:45.002Z"
   },
   {
    "duration": 64,
    "start_time": "2024-10-10T16:05:45.012Z"
   },
   {
    "duration": 37,
    "start_time": "2024-10-10T16:05:45.078Z"
   },
   {
    "duration": 18,
    "start_time": "2024-10-10T16:05:45.116Z"
   },
   {
    "duration": 25,
    "start_time": "2024-10-10T16:05:45.135Z"
   },
   {
    "duration": 301,
    "start_time": "2024-10-10T16:05:45.161Z"
   },
   {
    "duration": 172,
    "start_time": "2024-10-10T16:05:45.463Z"
   },
   {
    "duration": 216,
    "start_time": "2024-10-10T16:05:45.636Z"
   },
   {
    "duration": 181,
    "start_time": "2024-10-10T16:05:45.853Z"
   },
   {
    "duration": 209,
    "start_time": "2024-10-10T16:05:46.036Z"
   },
   {
    "duration": 17,
    "start_time": "2024-10-10T16:05:46.247Z"
   },
   {
    "duration": 4,
    "start_time": "2024-10-10T16:05:46.266Z"
   },
   {
    "duration": 4,
    "start_time": "2024-10-10T16:05:46.271Z"
   },
   {
    "duration": 23,
    "start_time": "2024-10-10T16:05:46.276Z"
   },
   {
    "duration": 9,
    "start_time": "2024-10-10T16:05:46.301Z"
   },
   {
    "duration": 5,
    "start_time": "2024-10-10T16:05:46.311Z"
   },
   {
    "duration": 4,
    "start_time": "2024-10-10T16:05:46.317Z"
   },
   {
    "duration": 119,
    "start_time": "2024-10-10T16:05:46.322Z"
   },
   {
    "duration": 0,
    "start_time": "2024-10-10T16:05:46.443Z"
   },
   {
    "duration": 0,
    "start_time": "2024-10-10T16:05:46.444Z"
   },
   {
    "duration": 0,
    "start_time": "2024-10-10T16:05:46.444Z"
   },
   {
    "duration": 0,
    "start_time": "2024-10-10T16:05:46.446Z"
   },
   {
    "duration": 26,
    "start_time": "2024-10-10T16:08:24.903Z"
   },
   {
    "duration": 7,
    "start_time": "2024-10-10T16:08:36.423Z"
   },
   {
    "duration": 2,
    "start_time": "2024-10-10T16:08:39.041Z"
   },
   {
    "duration": 11,
    "start_time": "2024-10-10T16:08:40.058Z"
   },
   {
    "duration": 3,
    "start_time": "2024-10-10T16:08:40.554Z"
   },
   {
    "duration": 5,
    "start_time": "2024-10-10T16:08:42.056Z"
   },
   {
    "duration": 3,
    "start_time": "2024-10-10T16:08:44.274Z"
   },
   {
    "duration": 126881,
    "start_time": "2024-10-10T16:08:45.126Z"
   },
   {
    "duration": 6,
    "start_time": "2024-10-10T16:11:00.020Z"
   },
   {
    "duration": 3,
    "start_time": "2024-10-10T16:11:03.072Z"
   },
   {
    "duration": 22,
    "start_time": "2024-10-10T16:12:26.508Z"
   },
   {
    "duration": 8,
    "start_time": "2024-10-10T16:12:30.228Z"
   },
   {
    "duration": 4,
    "start_time": "2024-10-10T16:13:09.596Z"
   },
   {
    "duration": 4,
    "start_time": "2024-10-10T16:13:13.415Z"
   },
   {
    "duration": 21,
    "start_time": "2024-10-10T16:15:35.906Z"
   },
   {
    "duration": 1239,
    "start_time": "2024-10-10T16:16:15.923Z"
   },
   {
    "duration": 76,
    "start_time": "2024-10-10T16:16:17.163Z"
   },
   {
    "duration": 8,
    "start_time": "2024-10-10T16:16:17.240Z"
   },
   {
    "duration": 5,
    "start_time": "2024-10-10T16:16:17.249Z"
   },
   {
    "duration": 8,
    "start_time": "2024-10-10T16:16:17.256Z"
   },
   {
    "duration": 3,
    "start_time": "2024-10-10T16:16:17.265Z"
   },
   {
    "duration": 7,
    "start_time": "2024-10-10T16:16:17.269Z"
   },
   {
    "duration": 273,
    "start_time": "2024-10-10T16:16:17.277Z"
   },
   {
    "duration": 217,
    "start_time": "2024-10-10T16:16:17.551Z"
   },
   {
    "duration": 143,
    "start_time": "2024-10-10T16:16:17.769Z"
   },
   {
    "duration": 189,
    "start_time": "2024-10-10T16:16:17.913Z"
   },
   {
    "duration": 209,
    "start_time": "2024-10-10T16:16:18.104Z"
   },
   {
    "duration": 21,
    "start_time": "2024-10-10T16:16:18.315Z"
   },
   {
    "duration": 4,
    "start_time": "2024-10-10T16:16:18.339Z"
   },
   {
    "duration": 3,
    "start_time": "2024-10-10T16:16:18.345Z"
   },
   {
    "duration": 17,
    "start_time": "2024-10-10T16:16:18.350Z"
   },
   {
    "duration": 3,
    "start_time": "2024-10-10T16:16:18.369Z"
   },
   {
    "duration": 10,
    "start_time": "2024-10-10T16:16:18.373Z"
   },
   {
    "duration": 6,
    "start_time": "2024-10-10T16:16:18.384Z"
   },
   {
    "duration": 37019,
    "start_time": "2024-10-10T16:16:18.391Z"
   },
   {
    "duration": 5,
    "start_time": "2024-10-10T16:16:55.412Z"
   },
   {
    "duration": 14,
    "start_time": "2024-10-10T16:16:55.418Z"
   },
   {
    "duration": 21,
    "start_time": "2024-10-10T16:16:55.433Z"
   },
   {
    "duration": 3,
    "start_time": "2024-10-10T16:16:55.456Z"
   },
   {
    "duration": 1369,
    "start_time": "2024-10-10T16:17:56.103Z"
   },
   {
    "duration": 77,
    "start_time": "2024-10-10T16:17:57.474Z"
   },
   {
    "duration": 9,
    "start_time": "2024-10-10T16:17:57.553Z"
   },
   {
    "duration": 7,
    "start_time": "2024-10-10T16:17:57.563Z"
   },
   {
    "duration": 11,
    "start_time": "2024-10-10T16:17:57.571Z"
   },
   {
    "duration": 3,
    "start_time": "2024-10-10T16:17:57.583Z"
   },
   {
    "duration": 11,
    "start_time": "2024-10-10T16:17:57.587Z"
   },
   {
    "duration": 250,
    "start_time": "2024-10-10T16:17:57.600Z"
   },
   {
    "duration": 212,
    "start_time": "2024-10-10T16:17:57.851Z"
   },
   {
    "duration": 145,
    "start_time": "2024-10-10T16:17:58.065Z"
   },
   {
    "duration": 187,
    "start_time": "2024-10-10T16:17:58.212Z"
   },
   {
    "duration": 225,
    "start_time": "2024-10-10T16:17:58.401Z"
   },
   {
    "duration": 19,
    "start_time": "2024-10-10T16:17:58.628Z"
   },
   {
    "duration": 4,
    "start_time": "2024-10-10T16:17:58.649Z"
   },
   {
    "duration": 3,
    "start_time": "2024-10-10T16:17:58.654Z"
   },
   {
    "duration": 8,
    "start_time": "2024-10-10T16:17:58.658Z"
   },
   {
    "duration": 2,
    "start_time": "2024-10-10T16:17:58.667Z"
   },
   {
    "duration": 4,
    "start_time": "2024-10-10T16:17:58.671Z"
   },
   {
    "duration": 7,
    "start_time": "2024-10-10T16:17:58.676Z"
   },
   {
    "duration": 30415,
    "start_time": "2024-10-10T16:17:58.711Z"
   },
   {
    "duration": 7,
    "start_time": "2024-10-10T16:18:29.127Z"
   },
   {
    "duration": 10,
    "start_time": "2024-10-10T16:18:29.136Z"
   },
   {
    "duration": 67,
    "start_time": "2024-10-10T16:18:29.147Z"
   },
   {
    "duration": 7,
    "start_time": "2024-10-10T16:18:29.216Z"
   },
   {
    "duration": 1326,
    "start_time": "2024-10-10T16:22:10.113Z"
   },
   {
    "duration": 81,
    "start_time": "2024-10-10T16:22:11.440Z"
   },
   {
    "duration": 10,
    "start_time": "2024-10-10T16:22:11.522Z"
   },
   {
    "duration": 5,
    "start_time": "2024-10-10T16:22:11.534Z"
   },
   {
    "duration": 10,
    "start_time": "2024-10-10T16:22:11.542Z"
   },
   {
    "duration": 3,
    "start_time": "2024-10-10T16:22:11.554Z"
   },
   {
    "duration": 7,
    "start_time": "2024-10-10T16:22:11.559Z"
   },
   {
    "duration": 302,
    "start_time": "2024-10-10T16:22:11.568Z"
   },
   {
    "duration": 185,
    "start_time": "2024-10-10T16:22:11.872Z"
   },
   {
    "duration": 189,
    "start_time": "2024-10-10T16:22:12.058Z"
   },
   {
    "duration": 183,
    "start_time": "2024-10-10T16:22:12.248Z"
   },
   {
    "duration": 204,
    "start_time": "2024-10-10T16:22:12.432Z"
   },
   {
    "duration": 20,
    "start_time": "2024-10-10T16:22:12.637Z"
   },
   {
    "duration": 4,
    "start_time": "2024-10-10T16:22:12.659Z"
   },
   {
    "duration": 3,
    "start_time": "2024-10-10T16:22:12.664Z"
   },
   {
    "duration": 10,
    "start_time": "2024-10-10T16:22:12.668Z"
   },
   {
    "duration": 5,
    "start_time": "2024-10-10T16:22:12.679Z"
   },
   {
    "duration": 4,
    "start_time": "2024-10-10T16:22:12.685Z"
   },
   {
    "duration": 3,
    "start_time": "2024-10-10T16:22:12.711Z"
   },
   {
    "duration": 31335,
    "start_time": "2024-10-10T16:22:12.715Z"
   },
   {
    "duration": 6,
    "start_time": "2024-10-10T16:22:44.051Z"
   },
   {
    "duration": 4,
    "start_time": "2024-10-10T16:22:44.058Z"
   },
   {
    "duration": 22,
    "start_time": "2024-10-10T16:22:44.064Z"
   },
   {
    "duration": 4,
    "start_time": "2024-10-10T16:22:44.088Z"
   },
   {
    "duration": 105,
    "start_time": "2024-10-10T16:27:24.635Z"
   },
   {
    "duration": 125,
    "start_time": "2024-10-10T16:27:45.754Z"
   },
   {
    "duration": 144,
    "start_time": "2024-10-10T16:27:55.680Z"
   },
   {
    "duration": 137,
    "start_time": "2024-10-10T16:28:04.978Z"
   },
   {
    "duration": 155,
    "start_time": "2024-10-10T16:28:27.489Z"
   },
   {
    "duration": 163,
    "start_time": "2024-10-10T16:30:02.702Z"
   },
   {
    "duration": 160,
    "start_time": "2024-10-10T16:30:25.466Z"
   },
   {
    "duration": 27,
    "start_time": "2024-10-10T16:39:47.100Z"
   },
   {
    "duration": 1296,
    "start_time": "2024-10-10T16:40:35.578Z"
   },
   {
    "duration": 79,
    "start_time": "2024-10-10T16:40:36.876Z"
   },
   {
    "duration": 10,
    "start_time": "2024-10-10T16:40:36.956Z"
   },
   {
    "duration": 88,
    "start_time": "2024-10-10T16:40:36.968Z"
   },
   {
    "duration": 17,
    "start_time": "2024-10-10T16:40:37.058Z"
   },
   {
    "duration": 2,
    "start_time": "2024-10-10T16:40:37.077Z"
   },
   {
    "duration": 20,
    "start_time": "2024-10-10T16:40:37.081Z"
   },
   {
    "duration": 256,
    "start_time": "2024-10-10T16:40:37.102Z"
   },
   {
    "duration": 211,
    "start_time": "2024-10-10T16:40:37.359Z"
   },
   {
    "duration": 141,
    "start_time": "2024-10-10T16:40:37.571Z"
   },
   {
    "duration": 180,
    "start_time": "2024-10-10T16:40:37.713Z"
   },
   {
    "duration": 202,
    "start_time": "2024-10-10T16:40:37.894Z"
   },
   {
    "duration": 30,
    "start_time": "2024-10-10T16:40:38.097Z"
   },
   {
    "duration": 13,
    "start_time": "2024-10-10T16:40:38.130Z"
   },
   {
    "duration": 11,
    "start_time": "2024-10-10T16:40:38.144Z"
   },
   {
    "duration": 18,
    "start_time": "2024-10-10T16:40:38.156Z"
   },
   {
    "duration": 11,
    "start_time": "2024-10-10T16:40:38.175Z"
   },
   {
    "duration": 5,
    "start_time": "2024-10-10T16:40:38.188Z"
   },
   {
    "duration": 45,
    "start_time": "2024-10-10T16:40:38.195Z"
   },
   {
    "duration": 45583,
    "start_time": "2024-10-10T16:40:38.241Z"
   },
   {
    "duration": 6,
    "start_time": "2024-10-10T16:41:23.826Z"
   },
   {
    "duration": 12,
    "start_time": "2024-10-10T16:41:23.833Z"
   },
   {
    "duration": 18,
    "start_time": "2024-10-10T16:41:23.846Z"
   },
   {
    "duration": 3,
    "start_time": "2024-10-10T16:41:23.866Z"
   },
   {
    "duration": 184,
    "start_time": "2024-10-10T16:41:23.870Z"
   },
   {
    "duration": 1298,
    "start_time": "2024-10-10T16:42:28.972Z"
   },
   {
    "duration": 79,
    "start_time": "2024-10-10T16:42:30.271Z"
   },
   {
    "duration": 9,
    "start_time": "2024-10-10T16:42:30.351Z"
   },
   {
    "duration": 18,
    "start_time": "2024-10-10T16:42:30.361Z"
   },
   {
    "duration": 18,
    "start_time": "2024-10-10T16:42:30.380Z"
   },
   {
    "duration": 26,
    "start_time": "2024-10-10T16:42:30.399Z"
   },
   {
    "duration": 43,
    "start_time": "2024-10-10T16:42:30.426Z"
   },
   {
    "duration": 307,
    "start_time": "2024-10-10T16:42:30.471Z"
   },
   {
    "duration": 166,
    "start_time": "2024-10-10T16:42:30.779Z"
   },
   {
    "duration": 190,
    "start_time": "2024-10-10T16:42:30.947Z"
   },
   {
    "duration": 187,
    "start_time": "2024-10-10T16:42:31.139Z"
   },
   {
    "duration": 205,
    "start_time": "2024-10-10T16:42:31.328Z"
   },
   {
    "duration": 23,
    "start_time": "2024-10-10T16:42:31.534Z"
   },
   {
    "duration": 4,
    "start_time": "2024-10-10T16:42:31.558Z"
   },
   {
    "duration": 16,
    "start_time": "2024-10-10T16:42:31.563Z"
   },
   {
    "duration": 14,
    "start_time": "2024-10-10T16:42:31.580Z"
   },
   {
    "duration": 15,
    "start_time": "2024-10-10T16:42:31.595Z"
   },
   {
    "duration": 14,
    "start_time": "2024-10-10T16:42:31.612Z"
   },
   {
    "duration": 12,
    "start_time": "2024-10-10T16:42:31.627Z"
   },
   {
    "duration": 38385,
    "start_time": "2024-10-10T16:42:31.640Z"
   },
   {
    "duration": 7,
    "start_time": "2024-10-10T16:43:10.026Z"
   },
   {
    "duration": 38,
    "start_time": "2024-10-10T16:43:10.034Z"
   },
   {
    "duration": 9,
    "start_time": "2024-10-10T16:43:10.074Z"
   },
   {
    "duration": 8,
    "start_time": "2024-10-10T16:43:10.111Z"
   },
   {
    "duration": 188,
    "start_time": "2024-10-10T16:43:10.121Z"
   },
   {
    "duration": 20,
    "start_time": "2024-10-10T16:46:11.294Z"
   },
   {
    "duration": 1366,
    "start_time": "2024-10-10T16:47:02.277Z"
   },
   {
    "duration": 75,
    "start_time": "2024-10-10T16:47:03.644Z"
   },
   {
    "duration": 8,
    "start_time": "2024-10-10T16:47:03.720Z"
   },
   {
    "duration": 9,
    "start_time": "2024-10-10T16:47:03.730Z"
   },
   {
    "duration": 23,
    "start_time": "2024-10-10T16:47:03.740Z"
   },
   {
    "duration": 15,
    "start_time": "2024-10-10T16:47:03.764Z"
   },
   {
    "duration": 28,
    "start_time": "2024-10-10T16:47:03.780Z"
   },
   {
    "duration": 297,
    "start_time": "2024-10-10T16:47:03.809Z"
   },
   {
    "duration": 179,
    "start_time": "2024-10-10T16:47:04.107Z"
   },
   {
    "duration": 200,
    "start_time": "2024-10-10T16:47:04.288Z"
   },
   {
    "duration": 184,
    "start_time": "2024-10-10T16:47:04.490Z"
   },
   {
    "duration": 208,
    "start_time": "2024-10-10T16:47:04.676Z"
   },
   {
    "duration": 38,
    "start_time": "2024-10-10T16:47:04.886Z"
   },
   {
    "duration": 8,
    "start_time": "2024-10-10T16:47:04.925Z"
   },
   {
    "duration": 20,
    "start_time": "2024-10-10T16:47:04.934Z"
   },
   {
    "duration": 15,
    "start_time": "2024-10-10T16:47:04.955Z"
   },
   {
    "duration": 84,
    "start_time": "2024-10-10T16:47:04.972Z"
   },
   {
    "duration": 14,
    "start_time": "2024-10-10T16:47:05.057Z"
   },
   {
    "duration": 25,
    "start_time": "2024-10-10T16:47:05.072Z"
   },
   {
    "duration": 37566,
    "start_time": "2024-10-10T16:47:05.099Z"
   },
   {
    "duration": 6,
    "start_time": "2024-10-10T16:47:42.666Z"
   },
   {
    "duration": 13,
    "start_time": "2024-10-10T16:47:42.673Z"
   },
   {
    "duration": 18,
    "start_time": "2024-10-10T16:47:42.687Z"
   },
   {
    "duration": 7,
    "start_time": "2024-10-10T16:47:42.706Z"
   },
   {
    "duration": 173,
    "start_time": "2024-10-10T16:47:42.714Z"
   },
   {
    "duration": 1270,
    "start_time": "2024-10-10T16:48:42.237Z"
   },
   {
    "duration": 81,
    "start_time": "2024-10-10T16:48:43.508Z"
   },
   {
    "duration": 9,
    "start_time": "2024-10-10T16:48:43.590Z"
   },
   {
    "duration": 7,
    "start_time": "2024-10-10T16:48:43.600Z"
   },
   {
    "duration": 10,
    "start_time": "2024-10-10T16:48:43.608Z"
   },
   {
    "duration": 2,
    "start_time": "2024-10-10T16:48:43.620Z"
   },
   {
    "duration": 7,
    "start_time": "2024-10-10T16:48:43.624Z"
   },
   {
    "duration": 250,
    "start_time": "2024-10-10T16:48:43.632Z"
   },
   {
    "duration": 167,
    "start_time": "2024-10-10T16:48:43.884Z"
   },
   {
    "duration": 193,
    "start_time": "2024-10-10T16:48:44.054Z"
   },
   {
    "duration": 209,
    "start_time": "2024-10-10T16:48:44.248Z"
   },
   {
    "duration": 200,
    "start_time": "2024-10-10T16:48:44.458Z"
   },
   {
    "duration": 25,
    "start_time": "2024-10-10T16:48:44.659Z"
   },
   {
    "duration": 4,
    "start_time": "2024-10-10T16:48:44.685Z"
   },
   {
    "duration": 22,
    "start_time": "2024-10-10T16:48:44.690Z"
   },
   {
    "duration": 7,
    "start_time": "2024-10-10T16:48:44.713Z"
   },
   {
    "duration": 3,
    "start_time": "2024-10-10T16:48:44.721Z"
   },
   {
    "duration": 4,
    "start_time": "2024-10-10T16:48:44.725Z"
   },
   {
    "duration": 6,
    "start_time": "2024-10-10T16:48:44.730Z"
   },
   {
    "duration": 38879,
    "start_time": "2024-10-10T16:48:44.738Z"
   },
   {
    "duration": 6,
    "start_time": "2024-10-10T16:49:23.618Z"
   },
   {
    "duration": 4,
    "start_time": "2024-10-10T16:49:23.626Z"
   },
   {
    "duration": 19,
    "start_time": "2024-10-10T16:49:23.631Z"
   },
   {
    "duration": 3,
    "start_time": "2024-10-10T16:49:23.651Z"
   },
   {
    "duration": 186,
    "start_time": "2024-10-10T16:49:23.655Z"
   },
   {
    "duration": 18,
    "start_time": "2024-10-10T16:50:03.032Z"
   },
   {
    "duration": 1331,
    "start_time": "2024-10-10T16:51:09.102Z"
   },
   {
    "duration": 74,
    "start_time": "2024-10-10T16:51:10.434Z"
   },
   {
    "duration": 8,
    "start_time": "2024-10-10T16:51:10.510Z"
   },
   {
    "duration": 64,
    "start_time": "2024-10-10T16:51:10.519Z"
   },
   {
    "duration": 23,
    "start_time": "2024-10-10T16:51:10.584Z"
   },
   {
    "duration": 3,
    "start_time": "2024-10-10T16:51:10.608Z"
   },
   {
    "duration": 6,
    "start_time": "2024-10-10T16:51:10.612Z"
   },
   {
    "duration": 254,
    "start_time": "2024-10-10T16:51:10.620Z"
   },
   {
    "duration": 233,
    "start_time": "2024-10-10T16:51:10.875Z"
   },
   {
    "duration": 150,
    "start_time": "2024-10-10T16:51:11.111Z"
   },
   {
    "duration": 191,
    "start_time": "2024-10-10T16:51:11.262Z"
   },
   {
    "duration": 202,
    "start_time": "2024-10-10T16:51:11.454Z"
   },
   {
    "duration": 25,
    "start_time": "2024-10-10T16:51:11.657Z"
   },
   {
    "duration": 3,
    "start_time": "2024-10-10T16:51:11.685Z"
   },
   {
    "duration": 23,
    "start_time": "2024-10-10T16:51:11.689Z"
   },
   {
    "duration": 7,
    "start_time": "2024-10-10T16:51:11.713Z"
   },
   {
    "duration": 31,
    "start_time": "2024-10-10T16:51:11.722Z"
   },
   {
    "duration": 10,
    "start_time": "2024-10-10T16:51:11.755Z"
   },
   {
    "duration": 5,
    "start_time": "2024-10-10T16:51:11.767Z"
   },
   {
    "duration": 38246,
    "start_time": "2024-10-10T16:51:11.774Z"
   },
   {
    "duration": 6,
    "start_time": "2024-10-10T16:51:50.022Z"
   },
   {
    "duration": 67,
    "start_time": "2024-10-10T16:51:50.030Z"
   },
   {
    "duration": 15,
    "start_time": "2024-10-10T16:51:50.098Z"
   },
   {
    "duration": 8,
    "start_time": "2024-10-10T16:51:50.114Z"
   },
   {
    "duration": 213,
    "start_time": "2024-10-10T16:51:50.123Z"
   },
   {
    "duration": 1252,
    "start_time": "2024-10-10T17:04:42.057Z"
   },
   {
    "duration": 84,
    "start_time": "2024-10-10T17:04:43.311Z"
   },
   {
    "duration": 8,
    "start_time": "2024-10-10T17:04:43.397Z"
   },
   {
    "duration": 10,
    "start_time": "2024-10-10T17:04:43.407Z"
   },
   {
    "duration": 15,
    "start_time": "2024-10-10T17:04:43.418Z"
   },
   {
    "duration": 5,
    "start_time": "2024-10-10T17:04:43.434Z"
   },
   {
    "duration": 12,
    "start_time": "2024-10-10T17:04:43.440Z"
   },
   {
    "duration": 265,
    "start_time": "2024-10-10T17:04:43.453Z"
   },
   {
    "duration": 171,
    "start_time": "2024-10-10T17:04:43.719Z"
   },
   {
    "duration": 195,
    "start_time": "2024-10-10T17:04:43.892Z"
   },
   {
    "duration": 188,
    "start_time": "2024-10-10T17:04:44.089Z"
   },
   {
    "duration": 206,
    "start_time": "2024-10-10T17:04:44.278Z"
   },
   {
    "duration": 30,
    "start_time": "2024-10-10T17:04:44.485Z"
   },
   {
    "duration": 3,
    "start_time": "2024-10-10T17:04:44.517Z"
   },
   {
    "duration": 9,
    "start_time": "2024-10-10T17:04:44.522Z"
   },
   {
    "duration": 9,
    "start_time": "2024-10-10T17:04:44.532Z"
   },
   {
    "duration": 5,
    "start_time": "2024-10-10T17:04:44.543Z"
   },
   {
    "duration": 6,
    "start_time": "2024-10-10T17:04:44.550Z"
   },
   {
    "duration": 5,
    "start_time": "2024-10-10T17:04:44.557Z"
   },
   {
    "duration": 36366,
    "start_time": "2024-10-10T17:04:44.563Z"
   },
   {
    "duration": 8,
    "start_time": "2024-10-10T17:05:21.011Z"
   },
   {
    "duration": 10,
    "start_time": "2024-10-10T17:05:21.020Z"
   },
   {
    "duration": 11,
    "start_time": "2024-10-10T17:05:21.031Z"
   },
   {
    "duration": 69,
    "start_time": "2024-10-10T17:05:21.044Z"
   },
   {
    "duration": 198,
    "start_time": "2024-10-10T17:05:21.114Z"
   },
   {
    "duration": 1327,
    "start_time": "2024-10-10T17:05:52.132Z"
   },
   {
    "duration": 88,
    "start_time": "2024-10-10T17:05:53.460Z"
   },
   {
    "duration": 8,
    "start_time": "2024-10-10T17:05:53.550Z"
   },
   {
    "duration": 20,
    "start_time": "2024-10-10T17:05:53.560Z"
   },
   {
    "duration": 24,
    "start_time": "2024-10-10T17:05:53.582Z"
   },
   {
    "duration": 4,
    "start_time": "2024-10-10T17:05:53.607Z"
   },
   {
    "duration": 13,
    "start_time": "2024-10-10T17:05:53.612Z"
   },
   {
    "duration": 283,
    "start_time": "2024-10-10T17:05:53.627Z"
   },
   {
    "duration": 226,
    "start_time": "2024-10-10T17:05:53.911Z"
   },
   {
    "duration": 146,
    "start_time": "2024-10-10T17:05:54.138Z"
   },
   {
    "duration": 189,
    "start_time": "2024-10-10T17:05:54.286Z"
   },
   {
    "duration": 199,
    "start_time": "2024-10-10T17:05:54.476Z"
   },
   {
    "duration": 23,
    "start_time": "2024-10-10T17:05:54.677Z"
   },
   {
    "duration": 15,
    "start_time": "2024-10-10T17:05:54.711Z"
   },
   {
    "duration": 20,
    "start_time": "2024-10-10T17:05:54.727Z"
   },
   {
    "duration": 11,
    "start_time": "2024-10-10T17:05:54.748Z"
   },
   {
    "duration": 17,
    "start_time": "2024-10-10T17:05:54.760Z"
   },
   {
    "duration": 15,
    "start_time": "2024-10-10T17:05:54.778Z"
   },
   {
    "duration": 14,
    "start_time": "2024-10-10T17:05:54.794Z"
   },
   {
    "duration": 37120,
    "start_time": "2024-10-10T17:05:54.809Z"
   },
   {
    "duration": 86,
    "start_time": "2024-10-10T17:06:31.931Z"
   },
   {
    "duration": 16,
    "start_time": "2024-10-10T17:06:32.018Z"
   },
   {
    "duration": 14,
    "start_time": "2024-10-10T17:06:32.035Z"
   },
   {
    "duration": 3,
    "start_time": "2024-10-10T17:06:32.055Z"
   },
   {
    "duration": 167,
    "start_time": "2024-10-10T17:06:32.112Z"
   },
   {
    "duration": 3861,
    "start_time": "2024-10-10T20:49:31.525Z"
   },
   {
    "duration": 192,
    "start_time": "2024-10-10T20:49:35.388Z"
   },
   {
    "duration": 11,
    "start_time": "2024-10-10T20:49:35.581Z"
   },
   {
    "duration": 12,
    "start_time": "2024-10-10T20:49:35.594Z"
   },
   {
    "duration": 44,
    "start_time": "2024-10-10T20:49:35.607Z"
   },
   {
    "duration": 32,
    "start_time": "2024-10-10T20:49:35.652Z"
   },
   {
    "duration": 9,
    "start_time": "2024-10-10T20:49:35.685Z"
   },
   {
    "duration": 255,
    "start_time": "2024-10-10T20:49:35.696Z"
   },
   {
    "duration": 205,
    "start_time": "2024-10-10T20:49:35.952Z"
   },
   {
    "duration": 245,
    "start_time": "2024-10-10T20:49:36.159Z"
   },
   {
    "duration": 218,
    "start_time": "2024-10-10T20:49:36.405Z"
   },
   {
    "duration": 231,
    "start_time": "2024-10-10T20:49:36.624Z"
   },
   {
    "duration": 28,
    "start_time": "2024-10-10T20:49:36.856Z"
   },
   {
    "duration": 4,
    "start_time": "2024-10-10T20:49:36.886Z"
   },
   {
    "duration": 23,
    "start_time": "2024-10-10T20:49:36.891Z"
   },
   {
    "duration": 29,
    "start_time": "2024-10-10T20:49:36.916Z"
   },
   {
    "duration": 28,
    "start_time": "2024-10-10T20:49:36.946Z"
   },
   {
    "duration": 71,
    "start_time": "2024-10-10T20:49:36.976Z"
   },
   {
    "duration": 22,
    "start_time": "2024-10-10T20:49:37.049Z"
   },
   {
    "duration": 22951,
    "start_time": "2024-10-10T20:49:37.072Z"
   },
   {
    "duration": 8,
    "start_time": "2024-10-10T20:50:00.025Z"
   },
   {
    "duration": 37,
    "start_time": "2024-10-10T20:50:00.034Z"
   },
   {
    "duration": 32,
    "start_time": "2024-10-10T20:50:00.073Z"
   },
   {
    "duration": 36,
    "start_time": "2024-10-10T20:50:00.107Z"
   },
   {
    "duration": 182,
    "start_time": "2024-10-10T20:50:00.145Z"
   },
   {
    "duration": 1768,
    "start_time": "2024-10-11T08:17:47.216Z"
   },
   {
    "duration": 128,
    "start_time": "2024-10-11T08:17:48.986Z"
   },
   {
    "duration": 10,
    "start_time": "2024-10-11T08:17:49.116Z"
   },
   {
    "duration": 6,
    "start_time": "2024-10-11T08:17:49.128Z"
   },
   {
    "duration": 17,
    "start_time": "2024-10-11T08:17:49.137Z"
   },
   {
    "duration": 4,
    "start_time": "2024-10-11T08:17:49.156Z"
   },
   {
    "duration": 26,
    "start_time": "2024-10-11T08:17:49.162Z"
   },
   {
    "duration": 313,
    "start_time": "2024-10-11T08:17:49.191Z"
   },
   {
    "duration": 219,
    "start_time": "2024-10-11T08:17:49.506Z"
   },
   {
    "duration": 270,
    "start_time": "2024-10-11T08:17:49.727Z"
   },
   {
    "duration": 274,
    "start_time": "2024-10-11T08:17:49.998Z"
   },
   {
    "duration": 275,
    "start_time": "2024-10-11T08:17:50.279Z"
   },
   {
    "duration": 46,
    "start_time": "2024-10-11T08:17:50.556Z"
   },
   {
    "duration": 5,
    "start_time": "2024-10-11T08:17:50.605Z"
   },
   {
    "duration": 4,
    "start_time": "2024-10-11T08:17:50.612Z"
   },
   {
    "duration": 12,
    "start_time": "2024-10-11T08:17:50.617Z"
   },
   {
    "duration": 13,
    "start_time": "2024-10-11T08:17:50.630Z"
   },
   {
    "duration": 29,
    "start_time": "2024-10-11T08:17:50.645Z"
   },
   {
    "duration": 8,
    "start_time": "2024-10-11T08:17:50.679Z"
   },
   {
    "duration": 284002,
    "start_time": "2024-10-11T08:17:50.688Z"
   },
   {
    "duration": 9,
    "start_time": "2024-10-11T08:22:34.691Z"
   },
   {
    "duration": 7,
    "start_time": "2024-10-11T08:22:34.701Z"
   },
   {
    "duration": 12,
    "start_time": "2024-10-11T08:22:34.710Z"
   },
   {
    "duration": 15,
    "start_time": "2024-10-11T08:22:34.767Z"
   },
   {
    "duration": 210,
    "start_time": "2024-10-11T08:22:34.784Z"
   },
   {
    "duration": 1523,
    "start_time": "2024-10-11T08:23:46.729Z"
   },
   {
    "duration": 77,
    "start_time": "2024-10-11T08:23:48.255Z"
   },
   {
    "duration": 10,
    "start_time": "2024-10-11T08:23:48.334Z"
   },
   {
    "duration": 6,
    "start_time": "2024-10-11T08:23:48.345Z"
   },
   {
    "duration": 26,
    "start_time": "2024-10-11T08:23:48.353Z"
   },
   {
    "duration": 4,
    "start_time": "2024-10-11T08:23:48.380Z"
   },
   {
    "duration": 23,
    "start_time": "2024-10-11T08:23:48.385Z"
   },
   {
    "duration": 330,
    "start_time": "2024-10-11T08:23:48.410Z"
   },
   {
    "duration": 203,
    "start_time": "2024-10-11T08:23:48.742Z"
   },
   {
    "duration": 253,
    "start_time": "2024-10-11T08:23:48.947Z"
   },
   {
    "duration": 242,
    "start_time": "2024-10-11T08:23:49.201Z"
   },
   {
    "duration": 240,
    "start_time": "2024-10-11T08:23:49.445Z"
   },
   {
    "duration": 28,
    "start_time": "2024-10-11T08:23:49.686Z"
   },
   {
    "duration": 4,
    "start_time": "2024-10-11T08:23:49.717Z"
   },
   {
    "duration": 8,
    "start_time": "2024-10-11T08:23:49.722Z"
   },
   {
    "duration": 140,
    "start_time": "2024-10-11T08:23:49.732Z"
   },
   {
    "duration": 0,
    "start_time": "2024-10-11T08:23:49.874Z"
   },
   {
    "duration": 0,
    "start_time": "2024-10-11T08:23:49.875Z"
   },
   {
    "duration": 0,
    "start_time": "2024-10-11T08:23:49.876Z"
   },
   {
    "duration": 0,
    "start_time": "2024-10-11T08:23:49.877Z"
   },
   {
    "duration": 0,
    "start_time": "2024-10-11T08:23:49.878Z"
   },
   {
    "duration": 0,
    "start_time": "2024-10-11T08:23:49.879Z"
   },
   {
    "duration": 0,
    "start_time": "2024-10-11T08:23:49.880Z"
   },
   {
    "duration": 0,
    "start_time": "2024-10-11T08:23:49.881Z"
   },
   {
    "duration": 0,
    "start_time": "2024-10-11T08:23:49.882Z"
   },
   {
    "duration": 3,
    "start_time": "2024-10-11T08:25:56.287Z"
   },
   {
    "duration": 13,
    "start_time": "2024-10-11T08:25:59.663Z"
   },
   {
    "duration": 30,
    "start_time": "2024-10-11T08:26:04.535Z"
   },
   {
    "duration": 5,
    "start_time": "2024-10-11T08:26:09.977Z"
   },
   {
    "duration": 3,
    "start_time": "2024-10-11T08:26:10.925Z"
   },
   {
    "duration": 9,
    "start_time": "2024-10-11T08:26:11.628Z"
   },
   {
    "duration": 8,
    "start_time": "2024-10-11T08:26:32.746Z"
   },
   {
    "duration": 94,
    "start_time": "2024-10-11T08:26:33.214Z"
   },
   {
    "duration": 85,
    "start_time": "2024-10-11T08:26:59.696Z"
   },
   {
    "duration": 3,
    "start_time": "2024-10-11T08:27:31.556Z"
   },
   {
    "duration": 5,
    "start_time": "2024-10-11T08:27:33.891Z"
   },
   {
    "duration": 3,
    "start_time": "2024-10-11T08:27:36.911Z"
   },
   {
    "duration": 47421,
    "start_time": "2024-10-11T08:27:37.745Z"
   },
   {
    "duration": 8,
    "start_time": "2024-10-11T08:28:25.168Z"
   },
   {
    "duration": 5,
    "start_time": "2024-10-11T08:28:25.178Z"
   },
   {
    "duration": 15,
    "start_time": "2024-10-11T08:28:38.516Z"
   },
   {
    "duration": 4,
    "start_time": "2024-10-11T08:28:39.116Z"
   },
   {
    "duration": 1423,
    "start_time": "2024-10-11T08:30:35.201Z"
   },
   {
    "duration": 78,
    "start_time": "2024-10-11T08:30:36.626Z"
   },
   {
    "duration": 10,
    "start_time": "2024-10-11T08:30:36.705Z"
   },
   {
    "duration": 5,
    "start_time": "2024-10-11T08:30:36.717Z"
   },
   {
    "duration": 12,
    "start_time": "2024-10-11T08:30:36.724Z"
   },
   {
    "duration": 3,
    "start_time": "2024-10-11T08:30:36.738Z"
   },
   {
    "duration": 31,
    "start_time": "2024-10-11T08:30:36.742Z"
   },
   {
    "duration": 294,
    "start_time": "2024-10-11T08:30:36.774Z"
   },
   {
    "duration": 206,
    "start_time": "2024-10-11T08:30:37.070Z"
   },
   {
    "duration": 253,
    "start_time": "2024-10-11T08:30:37.278Z"
   },
   {
    "duration": 226,
    "start_time": "2024-10-11T08:30:37.533Z"
   },
   {
    "duration": 260,
    "start_time": "2024-10-11T08:30:37.761Z"
   },
   {
    "duration": 42,
    "start_time": "2024-10-11T08:30:38.023Z"
   },
   {
    "duration": 5,
    "start_time": "2024-10-11T08:30:38.068Z"
   },
   {
    "duration": 36,
    "start_time": "2024-10-11T08:30:38.074Z"
   },
   {
    "duration": 51,
    "start_time": "2024-10-11T08:30:38.112Z"
   },
   {
    "duration": 3,
    "start_time": "2024-10-11T08:30:38.165Z"
   },
   {
    "duration": 10,
    "start_time": "2024-10-11T08:30:38.169Z"
   },
   {
    "duration": 10,
    "start_time": "2024-10-11T08:30:38.181Z"
   },
   {
    "duration": 49793,
    "start_time": "2024-10-11T08:30:38.193Z"
   },
   {
    "duration": 7,
    "start_time": "2024-10-11T08:31:27.987Z"
   },
   {
    "duration": 4,
    "start_time": "2024-10-11T08:31:28.064Z"
   },
   {
    "duration": 7,
    "start_time": "2024-10-11T08:31:28.070Z"
   },
   {
    "duration": 16,
    "start_time": "2024-10-11T08:31:28.079Z"
   },
   {
    "duration": 202,
    "start_time": "2024-10-11T08:31:28.096Z"
   }
  ],
  "kernelspec": {
   "display_name": "Python 3 (ipykernel)",
   "language": "python",
   "name": "python3"
  },
  "language_info": {
   "codemirror_mode": {
    "name": "ipython",
    "version": 3
   },
   "file_extension": ".py",
   "mimetype": "text/x-python",
   "name": "python",
   "nbconvert_exporter": "python",
   "pygments_lexer": "ipython3",
   "version": "3.11.7"
  },
  "toc": {
   "base_numbering": 1,
   "nav_menu": {},
   "number_sections": true,
   "sideBar": true,
   "skip_h1_title": true,
   "title_cell": "Содержание",
   "title_sidebar": "Contents",
   "toc_cell": true,
   "toc_position": {
    "height": "calc(100% - 180px)",
    "left": "10px",
    "top": "150px",
    "width": "261.818px"
   },
   "toc_section_display": true,
   "toc_window_display": true
  }
 },
 "nbformat": 4,
 "nbformat_minor": 4
}
